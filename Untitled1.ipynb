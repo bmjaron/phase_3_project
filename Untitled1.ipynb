{
  "nbformat": 4,
  "nbformat_minor": 0,
  "metadata": {
    "colab": {
      "provenance": [],
      "authorship_tag": "ABX9TyOrODAPNWps+sYqOVOfTaON",
      "include_colab_link": true
    },
    "kernelspec": {
      "name": "python3",
      "display_name": "Python 3"
    },
    "language_info": {
      "name": "python"
    }
  },
  "cells": [
    {
      "cell_type": "markdown",
      "metadata": {
        "id": "view-in-github",
        "colab_type": "text"
      },
      "source": [
        "<a href=\"https://colab.research.google.com/github/bmjaron/phase_3_project/blob/main/Untitled1.ipynb\" target=\"_parent\"><img src=\"https://colab.research.google.com/assets/colab-badge.svg\" alt=\"Open In Colab\"/></a>"
      ]
    },
    {
      "cell_type": "code",
      "execution_count": 1,
      "metadata": {
        "id": "ZSBN1A84uSIW"
      },
      "outputs": [],
      "source": [
        "import pandas as pd\n",
        "import numpy as np\n",
        "import matplotlib.pyplot as plt\n",
        "%matplotlib inline\n"
      ]
    },
    {
      "cell_type": "code",
      "source": [
        "df = pd.read_csv('https://raw.githubusercontent.com/bmjaron/phase_3_project/main/data%5B1%5D.csv')"
      ],
      "metadata": {
        "id": "WSr9bil05ikZ"
      },
      "execution_count": 2,
      "outputs": []
    },
    {
      "cell_type": "code",
      "source": [
        "y = df['Bankrupt?']\n",
        "X = df.drop('Bankrupt?', axis=1)"
      ],
      "metadata": {
        "id": "NWcex5Es5rNd"
      },
      "execution_count": 3,
      "outputs": []
    },
    {
      "cell_type": "code",
      "source": [
        "from sklearn.model_selection import train_test_split\n",
        "\n",
        "X_train, X_test, y_train, y_test = train_test_split(X, y, random_state=0)\n"
      ],
      "metadata": {
        "id": "ZkFSuWeW51ia"
      },
      "execution_count": 5,
      "outputs": []
    },
    {
      "cell_type": "code",
      "source": [
        "from sklearn.linear_model import LogisticRegression\n",
        "from sklearn.model_selection import cross_val_score\n",
        "from sklearn.metrics import accuracy_score, precision_score, recall_score\n",
        "\n",
        "#Instantiate baseline model\n",
        "baseline_model = LogisticRegression(max_iter=1000, random_state=0)\n",
        "\n",
        "#Fit model to training data\n",
        "baseline_model.fit(X_train, y_train)\n",
        "\n",
        "#Use model to predict target using testing data\n",
        "y_hat_test = baseline_model.predict(X_test)\n"
      ],
      "metadata": {
        "id": "FQBBnI2j7GiN"
      },
      "execution_count": 9,
      "outputs": []
    },
    {
      "cell_type": "code",
      "source": [
        "#Evaluate mode performance using neg_log_loss\n",
        "\n",
        "-1*cross_val_score(baseline_model, X_train, y_train, scoring='neg_log_loss').mean()"
      ],
      "metadata": {
        "id": "mnjdikle7dlT",
        "outputId": "7eaaa041-191a-4d99-df95-54a49e29058b",
        "colab": {
          "base_uri": "https://localhost:8080/"
        }
      },
      "execution_count": 11,
      "outputs": [
        {
          "output_type": "execute_result",
          "data": {
            "text/plain": [
              "0.19913563257167782"
            ]
          },
          "metadata": {},
          "execution_count": 11
        }
      ]
    },
    {
      "cell_type": "code",
      "source": [
        "#Examine accuracy, recall and precision\n",
        "print(f\"Accuracy score: {accuracy_score(y_test, y_hat_test)}\")\n",
        "print(f\"Precision: {precision_score(y_test, y_hat_test)}\")\n",
        "print((f\"Recall: {recall_score(y_test, y_hat_test)}\"))"
      ],
      "metadata": {
        "id": "etzkjwKx8jAM",
        "outputId": "51bc4860-f168-49dc-ef8e-034d5b82e9e2",
        "colab": {
          "base_uri": "https://localhost:8080/"
        }
      },
      "execution_count": 12,
      "outputs": [
        {
          "output_type": "stream",
          "name": "stdout",
          "text": [
            "Accuracy score: 0.9577712609970674\n",
            "Precision: 0.0\n",
            "Recall: 0.0\n"
          ]
        }
      ]
    },
    {
      "cell_type": "code",
      "source": [],
      "metadata": {
        "id": "bzASE3PU9Hnj"
      },
      "execution_count": null,
      "outputs": []
    }
  ]
}