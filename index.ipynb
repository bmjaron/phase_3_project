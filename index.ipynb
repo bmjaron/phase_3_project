{
  "nbformat": 4,
  "nbformat_minor": 0,
  "metadata": {
    "colab": {
      "provenance": [],
      "toc_visible": true,
      "authorship_tag": "ABX9TyM00QOIwBRpHwlwGgvLzUXs",
      "include_colab_link": true
    },
    "kernelspec": {
      "name": "python3",
      "display_name": "Python 3"
    },
    "language_info": {
      "name": "python"
    }
  },
  "cells": [
    {
      "cell_type": "markdown",
      "metadata": {
        "id": "view-in-github",
        "colab_type": "text"
      },
      "source": [
        "<a href=\"https://colab.research.google.com/github/bmjaron/phase_3_project/blob/main/index.ipynb\" target=\"_parent\"><img src=\"https://colab.research.google.com/assets/colab-badge.svg\" alt=\"Open In Colab\"/></a>"
      ]
    },
    {
      "cell_type": "markdown",
      "source": [
        "# I. Business Understanding"
      ],
      "metadata": {
        "id": "UswCB4UuPrti"
      }
    },
    {
      "cell_type": "markdown",
      "source": [
        "Our client is SyriaTel, which is a telecommunications company. SyriaTel is facing the problem of customer churning, which causes a loss in profits. In order to address this, SyriaTel wants to offer customers that are likely to churn special benefits in order to maintain their business and ensure a long-term relationship. SyriaTel has presented us with customer data and asked us to build a model to predict customer churn. This model will, in turn, provide the client with a method to identify which customers to conciliate."
      ],
      "metadata": {
        "id": "uBCEVs2E1hxw"
      }
    },
    {
      "cell_type": "markdown",
      "source": [
        "# II. Data Understanding"
      ],
      "metadata": {
        "id": "OeKpP0BZPwKX"
      }
    },
    {
      "cell_type": "markdown",
      "source": [
        "##1. Data Collection and Description"
      ],
      "metadata": {
        "id": "t43XUrHJTOA4"
      }
    },
    {
      "cell_type": "markdown",
      "source": [
        "To begin, we'll import our relevant libraries, then load and preview the data."
      ],
      "metadata": {
        "id": "kC0nIHCVP1OA"
      }
    },
    {
      "cell_type": "code",
      "source": [
        "import pandas as pd\n",
        "import numpy as np\n",
        "import matplotlib.pyplot as plt\n",
        "%matplotlib inline\n",
        "\n",
        "import seaborn as sns\n",
        "sns.set_style('darkgrid')"
      ],
      "metadata": {
        "id": "xi9j5jFTP0Hc"
      },
      "execution_count": 104,
      "outputs": []
    },
    {
      "cell_type": "code",
      "source": [
        "#Load data\n",
        "df = pd.read_csv('https://raw.githubusercontent.com/bmjaron/phase_3_project/main/data')\n",
        "\n",
        "#Preview\n",
        "df.head()"
      ],
      "metadata": {
        "id": "WSr9bil05ikZ",
        "colab": {
          "base_uri": "https://localhost:8080/",
          "height": 377
        },
        "outputId": "84299f62-04d5-45e7-fdcd-d13f44310694"
      },
      "execution_count": 105,
      "outputs": [
        {
          "output_type": "execute_result",
          "data": {
            "text/plain": [
              "  state  account length  area code phone number international plan  \\\n",
              "0    KS             128        415     382-4657                 no   \n",
              "1    OH             107        415     371-7191                 no   \n",
              "2    NJ             137        415     358-1921                 no   \n",
              "3    OH              84        408     375-9999                yes   \n",
              "4    OK              75        415     330-6626                yes   \n",
              "\n",
              "  voice mail plan  number vmail messages  total day minutes  total day calls  \\\n",
              "0             yes                     25              265.1              110   \n",
              "1             yes                     26              161.6              123   \n",
              "2              no                      0              243.4              114   \n",
              "3              no                      0              299.4               71   \n",
              "4              no                      0              166.7              113   \n",
              "\n",
              "   total day charge  ...  total eve calls  total eve charge  \\\n",
              "0             45.07  ...               99             16.78   \n",
              "1             27.47  ...              103             16.62   \n",
              "2             41.38  ...              110             10.30   \n",
              "3             50.90  ...               88              5.26   \n",
              "4             28.34  ...              122             12.61   \n",
              "\n",
              "   total night minutes  total night calls  total night charge  \\\n",
              "0                244.7                 91               11.01   \n",
              "1                254.4                103               11.45   \n",
              "2                162.6                104                7.32   \n",
              "3                196.9                 89                8.86   \n",
              "4                186.9                121                8.41   \n",
              "\n",
              "   total intl minutes  total intl calls  total intl charge  \\\n",
              "0                10.0                 3               2.70   \n",
              "1                13.7                 3               3.70   \n",
              "2                12.2                 5               3.29   \n",
              "3                 6.6                 7               1.78   \n",
              "4                10.1                 3               2.73   \n",
              "\n",
              "   customer service calls  churn  \n",
              "0                       1  False  \n",
              "1                       1  False  \n",
              "2                       0  False  \n",
              "3                       2  False  \n",
              "4                       3  False  \n",
              "\n",
              "[5 rows x 21 columns]"
            ],
            "text/html": [
              "\n",
              "  <div id=\"df-132e9c85-1816-4d29-a91b-db707218a59d\" class=\"colab-df-container\">\n",
              "    <div>\n",
              "<style scoped>\n",
              "    .dataframe tbody tr th:only-of-type {\n",
              "        vertical-align: middle;\n",
              "    }\n",
              "\n",
              "    .dataframe tbody tr th {\n",
              "        vertical-align: top;\n",
              "    }\n",
              "\n",
              "    .dataframe thead th {\n",
              "        text-align: right;\n",
              "    }\n",
              "</style>\n",
              "<table border=\"1\" class=\"dataframe\">\n",
              "  <thead>\n",
              "    <tr style=\"text-align: right;\">\n",
              "      <th></th>\n",
              "      <th>state</th>\n",
              "      <th>account length</th>\n",
              "      <th>area code</th>\n",
              "      <th>phone number</th>\n",
              "      <th>international plan</th>\n",
              "      <th>voice mail plan</th>\n",
              "      <th>number vmail messages</th>\n",
              "      <th>total day minutes</th>\n",
              "      <th>total day calls</th>\n",
              "      <th>total day charge</th>\n",
              "      <th>...</th>\n",
              "      <th>total eve calls</th>\n",
              "      <th>total eve charge</th>\n",
              "      <th>total night minutes</th>\n",
              "      <th>total night calls</th>\n",
              "      <th>total night charge</th>\n",
              "      <th>total intl minutes</th>\n",
              "      <th>total intl calls</th>\n",
              "      <th>total intl charge</th>\n",
              "      <th>customer service calls</th>\n",
              "      <th>churn</th>\n",
              "    </tr>\n",
              "  </thead>\n",
              "  <tbody>\n",
              "    <tr>\n",
              "      <th>0</th>\n",
              "      <td>KS</td>\n",
              "      <td>128</td>\n",
              "      <td>415</td>\n",
              "      <td>382-4657</td>\n",
              "      <td>no</td>\n",
              "      <td>yes</td>\n",
              "      <td>25</td>\n",
              "      <td>265.1</td>\n",
              "      <td>110</td>\n",
              "      <td>45.07</td>\n",
              "      <td>...</td>\n",
              "      <td>99</td>\n",
              "      <td>16.78</td>\n",
              "      <td>244.7</td>\n",
              "      <td>91</td>\n",
              "      <td>11.01</td>\n",
              "      <td>10.0</td>\n",
              "      <td>3</td>\n",
              "      <td>2.70</td>\n",
              "      <td>1</td>\n",
              "      <td>False</td>\n",
              "    </tr>\n",
              "    <tr>\n",
              "      <th>1</th>\n",
              "      <td>OH</td>\n",
              "      <td>107</td>\n",
              "      <td>415</td>\n",
              "      <td>371-7191</td>\n",
              "      <td>no</td>\n",
              "      <td>yes</td>\n",
              "      <td>26</td>\n",
              "      <td>161.6</td>\n",
              "      <td>123</td>\n",
              "      <td>27.47</td>\n",
              "      <td>...</td>\n",
              "      <td>103</td>\n",
              "      <td>16.62</td>\n",
              "      <td>254.4</td>\n",
              "      <td>103</td>\n",
              "      <td>11.45</td>\n",
              "      <td>13.7</td>\n",
              "      <td>3</td>\n",
              "      <td>3.70</td>\n",
              "      <td>1</td>\n",
              "      <td>False</td>\n",
              "    </tr>\n",
              "    <tr>\n",
              "      <th>2</th>\n",
              "      <td>NJ</td>\n",
              "      <td>137</td>\n",
              "      <td>415</td>\n",
              "      <td>358-1921</td>\n",
              "      <td>no</td>\n",
              "      <td>no</td>\n",
              "      <td>0</td>\n",
              "      <td>243.4</td>\n",
              "      <td>114</td>\n",
              "      <td>41.38</td>\n",
              "      <td>...</td>\n",
              "      <td>110</td>\n",
              "      <td>10.30</td>\n",
              "      <td>162.6</td>\n",
              "      <td>104</td>\n",
              "      <td>7.32</td>\n",
              "      <td>12.2</td>\n",
              "      <td>5</td>\n",
              "      <td>3.29</td>\n",
              "      <td>0</td>\n",
              "      <td>False</td>\n",
              "    </tr>\n",
              "    <tr>\n",
              "      <th>3</th>\n",
              "      <td>OH</td>\n",
              "      <td>84</td>\n",
              "      <td>408</td>\n",
              "      <td>375-9999</td>\n",
              "      <td>yes</td>\n",
              "      <td>no</td>\n",
              "      <td>0</td>\n",
              "      <td>299.4</td>\n",
              "      <td>71</td>\n",
              "      <td>50.90</td>\n",
              "      <td>...</td>\n",
              "      <td>88</td>\n",
              "      <td>5.26</td>\n",
              "      <td>196.9</td>\n",
              "      <td>89</td>\n",
              "      <td>8.86</td>\n",
              "      <td>6.6</td>\n",
              "      <td>7</td>\n",
              "      <td>1.78</td>\n",
              "      <td>2</td>\n",
              "      <td>False</td>\n",
              "    </tr>\n",
              "    <tr>\n",
              "      <th>4</th>\n",
              "      <td>OK</td>\n",
              "      <td>75</td>\n",
              "      <td>415</td>\n",
              "      <td>330-6626</td>\n",
              "      <td>yes</td>\n",
              "      <td>no</td>\n",
              "      <td>0</td>\n",
              "      <td>166.7</td>\n",
              "      <td>113</td>\n",
              "      <td>28.34</td>\n",
              "      <td>...</td>\n",
              "      <td>122</td>\n",
              "      <td>12.61</td>\n",
              "      <td>186.9</td>\n",
              "      <td>121</td>\n",
              "      <td>8.41</td>\n",
              "      <td>10.1</td>\n",
              "      <td>3</td>\n",
              "      <td>2.73</td>\n",
              "      <td>3</td>\n",
              "      <td>False</td>\n",
              "    </tr>\n",
              "  </tbody>\n",
              "</table>\n",
              "<p>5 rows × 21 columns</p>\n",
              "</div>\n",
              "    <div class=\"colab-df-buttons\">\n",
              "\n",
              "  <div class=\"colab-df-container\">\n",
              "    <button class=\"colab-df-convert\" onclick=\"convertToInteractive('df-132e9c85-1816-4d29-a91b-db707218a59d')\"\n",
              "            title=\"Convert this dataframe to an interactive table.\"\n",
              "            style=\"display:none;\">\n",
              "\n",
              "  <svg xmlns=\"http://www.w3.org/2000/svg\" height=\"24px\" viewBox=\"0 -960 960 960\">\n",
              "    <path d=\"M120-120v-720h720v720H120Zm60-500h600v-160H180v160Zm220 220h160v-160H400v160Zm0 220h160v-160H400v160ZM180-400h160v-160H180v160Zm440 0h160v-160H620v160ZM180-180h160v-160H180v160Zm440 0h160v-160H620v160Z\"/>\n",
              "  </svg>\n",
              "    </button>\n",
              "\n",
              "  <style>\n",
              "    .colab-df-container {\n",
              "      display:flex;\n",
              "      gap: 12px;\n",
              "    }\n",
              "\n",
              "    .colab-df-convert {\n",
              "      background-color: #E8F0FE;\n",
              "      border: none;\n",
              "      border-radius: 50%;\n",
              "      cursor: pointer;\n",
              "      display: none;\n",
              "      fill: #1967D2;\n",
              "      height: 32px;\n",
              "      padding: 0 0 0 0;\n",
              "      width: 32px;\n",
              "    }\n",
              "\n",
              "    .colab-df-convert:hover {\n",
              "      background-color: #E2EBFA;\n",
              "      box-shadow: 0px 1px 2px rgba(60, 64, 67, 0.3), 0px 1px 3px 1px rgba(60, 64, 67, 0.15);\n",
              "      fill: #174EA6;\n",
              "    }\n",
              "\n",
              "    .colab-df-buttons div {\n",
              "      margin-bottom: 4px;\n",
              "    }\n",
              "\n",
              "    [theme=dark] .colab-df-convert {\n",
              "      background-color: #3B4455;\n",
              "      fill: #D2E3FC;\n",
              "    }\n",
              "\n",
              "    [theme=dark] .colab-df-convert:hover {\n",
              "      background-color: #434B5C;\n",
              "      box-shadow: 0px 1px 3px 1px rgba(0, 0, 0, 0.15);\n",
              "      filter: drop-shadow(0px 1px 2px rgba(0, 0, 0, 0.3));\n",
              "      fill: #FFFFFF;\n",
              "    }\n",
              "  </style>\n",
              "\n",
              "    <script>\n",
              "      const buttonEl =\n",
              "        document.querySelector('#df-132e9c85-1816-4d29-a91b-db707218a59d button.colab-df-convert');\n",
              "      buttonEl.style.display =\n",
              "        google.colab.kernel.accessAllowed ? 'block' : 'none';\n",
              "\n",
              "      async function convertToInteractive(key) {\n",
              "        const element = document.querySelector('#df-132e9c85-1816-4d29-a91b-db707218a59d');\n",
              "        const dataTable =\n",
              "          await google.colab.kernel.invokeFunction('convertToInteractive',\n",
              "                                                    [key], {});\n",
              "        if (!dataTable) return;\n",
              "\n",
              "        const docLinkHtml = 'Like what you see? Visit the ' +\n",
              "          '<a target=\"_blank\" href=https://colab.research.google.com/notebooks/data_table.ipynb>data table notebook</a>'\n",
              "          + ' to learn more about interactive tables.';\n",
              "        element.innerHTML = '';\n",
              "        dataTable['output_type'] = 'display_data';\n",
              "        await google.colab.output.renderOutput(dataTable, element);\n",
              "        const docLink = document.createElement('div');\n",
              "        docLink.innerHTML = docLinkHtml;\n",
              "        element.appendChild(docLink);\n",
              "      }\n",
              "    </script>\n",
              "  </div>\n",
              "\n",
              "\n",
              "<div id=\"df-9e252afc-2d03-4070-a30e-58123b6383d8\">\n",
              "  <button class=\"colab-df-quickchart\" onclick=\"quickchart('df-9e252afc-2d03-4070-a30e-58123b6383d8')\"\n",
              "            title=\"Suggest charts.\"\n",
              "            style=\"display:none;\">\n",
              "\n",
              "<svg xmlns=\"http://www.w3.org/2000/svg\" height=\"24px\"viewBox=\"0 0 24 24\"\n",
              "     width=\"24px\">\n",
              "    <g>\n",
              "        <path d=\"M19 3H5c-1.1 0-2 .9-2 2v14c0 1.1.9 2 2 2h14c1.1 0 2-.9 2-2V5c0-1.1-.9-2-2-2zM9 17H7v-7h2v7zm4 0h-2V7h2v10zm4 0h-2v-4h2v4z\"/>\n",
              "    </g>\n",
              "</svg>\n",
              "  </button>\n",
              "\n",
              "<style>\n",
              "  .colab-df-quickchart {\n",
              "    background-color: #E8F0FE;\n",
              "    border: none;\n",
              "    border-radius: 50%;\n",
              "    cursor: pointer;\n",
              "    display: none;\n",
              "    fill: #1967D2;\n",
              "    height: 32px;\n",
              "    padding: 0 0 0 0;\n",
              "    width: 32px;\n",
              "  }\n",
              "\n",
              "  .colab-df-quickchart:hover {\n",
              "    background-color: #E2EBFA;\n",
              "    box-shadow: 0px 1px 2px rgba(60, 64, 67, 0.3), 0px 1px 3px 1px rgba(60, 64, 67, 0.15);\n",
              "    fill: #174EA6;\n",
              "  }\n",
              "\n",
              "  [theme=dark] .colab-df-quickchart {\n",
              "    background-color: #3B4455;\n",
              "    fill: #D2E3FC;\n",
              "  }\n",
              "\n",
              "  [theme=dark] .colab-df-quickchart:hover {\n",
              "    background-color: #434B5C;\n",
              "    box-shadow: 0px 1px 3px 1px rgba(0, 0, 0, 0.15);\n",
              "    filter: drop-shadow(0px 1px 2px rgba(0, 0, 0, 0.3));\n",
              "    fill: #FFFFFF;\n",
              "  }\n",
              "</style>\n",
              "\n",
              "  <script>\n",
              "    async function quickchart(key) {\n",
              "      const charts = await google.colab.kernel.invokeFunction(\n",
              "          'suggestCharts', [key], {});\n",
              "    }\n",
              "    (() => {\n",
              "      let quickchartButtonEl =\n",
              "        document.querySelector('#df-9e252afc-2d03-4070-a30e-58123b6383d8 button');\n",
              "      quickchartButtonEl.style.display =\n",
              "        google.colab.kernel.accessAllowed ? 'block' : 'none';\n",
              "    })();\n",
              "  </script>\n",
              "</div>\n",
              "    </div>\n",
              "  </div>\n"
            ]
          },
          "metadata": {},
          "execution_count": 105
        }
      ]
    },
    {
      "cell_type": "code",
      "source": [
        "#Return shape of data\n",
        "df.shape"
      ],
      "metadata": {
        "colab": {
          "base_uri": "https://localhost:8080/"
        },
        "id": "wkj3qSXfQwNP",
        "outputId": "652055b0-9b6b-49eb-c786-8f7d12aecaa5"
      },
      "execution_count": 106,
      "outputs": [
        {
          "output_type": "execute_result",
          "data": {
            "text/plain": [
              "(3333, 21)"
            ]
          },
          "metadata": {},
          "execution_count": 106
        }
      ]
    },
    {
      "cell_type": "markdown",
      "source": [
        "The data has 3,333 entries, all of which are different customers. There are also 21 distinct features, the last column represents whether or not the customer churned, and this will be our target. The other 20 columns represent various details about the given customer, including the customer's state and service usage."
      ],
      "metadata": {
        "id": "PqsOFkgHRBLY"
      }
    },
    {
      "cell_type": "code",
      "source": [
        "df.info()"
      ],
      "metadata": {
        "colab": {
          "base_uri": "https://localhost:8080/"
        },
        "id": "0KT5mzl_Qt19",
        "outputId": "134df98e-3b77-4413-fefd-e21372929c3a"
      },
      "execution_count": 107,
      "outputs": [
        {
          "output_type": "stream",
          "name": "stdout",
          "text": [
            "<class 'pandas.core.frame.DataFrame'>\n",
            "RangeIndex: 3333 entries, 0 to 3332\n",
            "Data columns (total 21 columns):\n",
            " #   Column                  Non-Null Count  Dtype  \n",
            "---  ------                  --------------  -----  \n",
            " 0   state                   3333 non-null   object \n",
            " 1   account length          3333 non-null   int64  \n",
            " 2   area code               3333 non-null   int64  \n",
            " 3   phone number            3333 non-null   object \n",
            " 4   international plan      3333 non-null   object \n",
            " 5   voice mail plan         3333 non-null   object \n",
            " 6   number vmail messages   3333 non-null   int64  \n",
            " 7   total day minutes       3333 non-null   float64\n",
            " 8   total day calls         3333 non-null   int64  \n",
            " 9   total day charge        3333 non-null   float64\n",
            " 10  total eve minutes       3333 non-null   float64\n",
            " 11  total eve calls         3333 non-null   int64  \n",
            " 12  total eve charge        3333 non-null   float64\n",
            " 13  total night minutes     3333 non-null   float64\n",
            " 14  total night calls       3333 non-null   int64  \n",
            " 15  total night charge      3333 non-null   float64\n",
            " 16  total intl minutes      3333 non-null   float64\n",
            " 17  total intl calls        3333 non-null   int64  \n",
            " 18  total intl charge       3333 non-null   float64\n",
            " 19  customer service calls  3333 non-null   int64  \n",
            " 20  churn                   3333 non-null   bool   \n",
            "dtypes: bool(1), float64(8), int64(8), object(4)\n",
            "memory usage: 524.2+ KB\n"
          ]
        }
      ]
    },
    {
      "cell_type": "markdown",
      "source": [
        "Our data is remarkably clean, and contains no null values."
      ],
      "metadata": {
        "id": "Sa7CF8suSmvP"
      }
    },
    {
      "cell_type": "code",
      "source": [
        "#Return descriptive statistics of numeric features\n",
        "df.describe()"
      ],
      "metadata": {
        "id": "NWcex5Es5rNd",
        "colab": {
          "base_uri": "https://localhost:8080/",
          "height": 355
        },
        "outputId": "80aecfce-2265-415c-9fae-f16764056229"
      },
      "execution_count": 108,
      "outputs": [
        {
          "output_type": "execute_result",
          "data": {
            "text/plain": [
              "       account length    area code  number vmail messages  total day minutes  \\\n",
              "count     3333.000000  3333.000000            3333.000000        3333.000000   \n",
              "mean       101.064806   437.182418               8.099010         179.775098   \n",
              "std         39.822106    42.371290              13.688365          54.467389   \n",
              "min          1.000000   408.000000               0.000000           0.000000   \n",
              "25%         74.000000   408.000000               0.000000         143.700000   \n",
              "50%        101.000000   415.000000               0.000000         179.400000   \n",
              "75%        127.000000   510.000000              20.000000         216.400000   \n",
              "max        243.000000   510.000000              51.000000         350.800000   \n",
              "\n",
              "       total day calls  total day charge  total eve minutes  total eve calls  \\\n",
              "count      3333.000000       3333.000000        3333.000000      3333.000000   \n",
              "mean        100.435644         30.562307         200.980348       100.114311   \n",
              "std          20.069084          9.259435          50.713844        19.922625   \n",
              "min           0.000000          0.000000           0.000000         0.000000   \n",
              "25%          87.000000         24.430000         166.600000        87.000000   \n",
              "50%         101.000000         30.500000         201.400000       100.000000   \n",
              "75%         114.000000         36.790000         235.300000       114.000000   \n",
              "max         165.000000         59.640000         363.700000       170.000000   \n",
              "\n",
              "       total eve charge  total night minutes  total night calls  \\\n",
              "count       3333.000000          3333.000000        3333.000000   \n",
              "mean          17.083540           200.872037         100.107711   \n",
              "std            4.310668            50.573847          19.568609   \n",
              "min            0.000000            23.200000          33.000000   \n",
              "25%           14.160000           167.000000          87.000000   \n",
              "50%           17.120000           201.200000         100.000000   \n",
              "75%           20.000000           235.300000         113.000000   \n",
              "max           30.910000           395.000000         175.000000   \n",
              "\n",
              "       total night charge  total intl minutes  total intl calls  \\\n",
              "count         3333.000000         3333.000000       3333.000000   \n",
              "mean             9.039325           10.237294          4.479448   \n",
              "std              2.275873            2.791840          2.461214   \n",
              "min              1.040000            0.000000          0.000000   \n",
              "25%              7.520000            8.500000          3.000000   \n",
              "50%              9.050000           10.300000          4.000000   \n",
              "75%             10.590000           12.100000          6.000000   \n",
              "max             17.770000           20.000000         20.000000   \n",
              "\n",
              "       total intl charge  customer service calls  \n",
              "count        3333.000000             3333.000000  \n",
              "mean            2.764581                1.562856  \n",
              "std             0.753773                1.315491  \n",
              "min             0.000000                0.000000  \n",
              "25%             2.300000                1.000000  \n",
              "50%             2.780000                1.000000  \n",
              "75%             3.270000                2.000000  \n",
              "max             5.400000                9.000000  "
            ],
            "text/html": [
              "\n",
              "  <div id=\"df-4229f042-81f6-4801-ae14-365fc14392c8\" class=\"colab-df-container\">\n",
              "    <div>\n",
              "<style scoped>\n",
              "    .dataframe tbody tr th:only-of-type {\n",
              "        vertical-align: middle;\n",
              "    }\n",
              "\n",
              "    .dataframe tbody tr th {\n",
              "        vertical-align: top;\n",
              "    }\n",
              "\n",
              "    .dataframe thead th {\n",
              "        text-align: right;\n",
              "    }\n",
              "</style>\n",
              "<table border=\"1\" class=\"dataframe\">\n",
              "  <thead>\n",
              "    <tr style=\"text-align: right;\">\n",
              "      <th></th>\n",
              "      <th>account length</th>\n",
              "      <th>area code</th>\n",
              "      <th>number vmail messages</th>\n",
              "      <th>total day minutes</th>\n",
              "      <th>total day calls</th>\n",
              "      <th>total day charge</th>\n",
              "      <th>total eve minutes</th>\n",
              "      <th>total eve calls</th>\n",
              "      <th>total eve charge</th>\n",
              "      <th>total night minutes</th>\n",
              "      <th>total night calls</th>\n",
              "      <th>total night charge</th>\n",
              "      <th>total intl minutes</th>\n",
              "      <th>total intl calls</th>\n",
              "      <th>total intl charge</th>\n",
              "      <th>customer service calls</th>\n",
              "    </tr>\n",
              "  </thead>\n",
              "  <tbody>\n",
              "    <tr>\n",
              "      <th>count</th>\n",
              "      <td>3333.000000</td>\n",
              "      <td>3333.000000</td>\n",
              "      <td>3333.000000</td>\n",
              "      <td>3333.000000</td>\n",
              "      <td>3333.000000</td>\n",
              "      <td>3333.000000</td>\n",
              "      <td>3333.000000</td>\n",
              "      <td>3333.000000</td>\n",
              "      <td>3333.000000</td>\n",
              "      <td>3333.000000</td>\n",
              "      <td>3333.000000</td>\n",
              "      <td>3333.000000</td>\n",
              "      <td>3333.000000</td>\n",
              "      <td>3333.000000</td>\n",
              "      <td>3333.000000</td>\n",
              "      <td>3333.000000</td>\n",
              "    </tr>\n",
              "    <tr>\n",
              "      <th>mean</th>\n",
              "      <td>101.064806</td>\n",
              "      <td>437.182418</td>\n",
              "      <td>8.099010</td>\n",
              "      <td>179.775098</td>\n",
              "      <td>100.435644</td>\n",
              "      <td>30.562307</td>\n",
              "      <td>200.980348</td>\n",
              "      <td>100.114311</td>\n",
              "      <td>17.083540</td>\n",
              "      <td>200.872037</td>\n",
              "      <td>100.107711</td>\n",
              "      <td>9.039325</td>\n",
              "      <td>10.237294</td>\n",
              "      <td>4.479448</td>\n",
              "      <td>2.764581</td>\n",
              "      <td>1.562856</td>\n",
              "    </tr>\n",
              "    <tr>\n",
              "      <th>std</th>\n",
              "      <td>39.822106</td>\n",
              "      <td>42.371290</td>\n",
              "      <td>13.688365</td>\n",
              "      <td>54.467389</td>\n",
              "      <td>20.069084</td>\n",
              "      <td>9.259435</td>\n",
              "      <td>50.713844</td>\n",
              "      <td>19.922625</td>\n",
              "      <td>4.310668</td>\n",
              "      <td>50.573847</td>\n",
              "      <td>19.568609</td>\n",
              "      <td>2.275873</td>\n",
              "      <td>2.791840</td>\n",
              "      <td>2.461214</td>\n",
              "      <td>0.753773</td>\n",
              "      <td>1.315491</td>\n",
              "    </tr>\n",
              "    <tr>\n",
              "      <th>min</th>\n",
              "      <td>1.000000</td>\n",
              "      <td>408.000000</td>\n",
              "      <td>0.000000</td>\n",
              "      <td>0.000000</td>\n",
              "      <td>0.000000</td>\n",
              "      <td>0.000000</td>\n",
              "      <td>0.000000</td>\n",
              "      <td>0.000000</td>\n",
              "      <td>0.000000</td>\n",
              "      <td>23.200000</td>\n",
              "      <td>33.000000</td>\n",
              "      <td>1.040000</td>\n",
              "      <td>0.000000</td>\n",
              "      <td>0.000000</td>\n",
              "      <td>0.000000</td>\n",
              "      <td>0.000000</td>\n",
              "    </tr>\n",
              "    <tr>\n",
              "      <th>25%</th>\n",
              "      <td>74.000000</td>\n",
              "      <td>408.000000</td>\n",
              "      <td>0.000000</td>\n",
              "      <td>143.700000</td>\n",
              "      <td>87.000000</td>\n",
              "      <td>24.430000</td>\n",
              "      <td>166.600000</td>\n",
              "      <td>87.000000</td>\n",
              "      <td>14.160000</td>\n",
              "      <td>167.000000</td>\n",
              "      <td>87.000000</td>\n",
              "      <td>7.520000</td>\n",
              "      <td>8.500000</td>\n",
              "      <td>3.000000</td>\n",
              "      <td>2.300000</td>\n",
              "      <td>1.000000</td>\n",
              "    </tr>\n",
              "    <tr>\n",
              "      <th>50%</th>\n",
              "      <td>101.000000</td>\n",
              "      <td>415.000000</td>\n",
              "      <td>0.000000</td>\n",
              "      <td>179.400000</td>\n",
              "      <td>101.000000</td>\n",
              "      <td>30.500000</td>\n",
              "      <td>201.400000</td>\n",
              "      <td>100.000000</td>\n",
              "      <td>17.120000</td>\n",
              "      <td>201.200000</td>\n",
              "      <td>100.000000</td>\n",
              "      <td>9.050000</td>\n",
              "      <td>10.300000</td>\n",
              "      <td>4.000000</td>\n",
              "      <td>2.780000</td>\n",
              "      <td>1.000000</td>\n",
              "    </tr>\n",
              "    <tr>\n",
              "      <th>75%</th>\n",
              "      <td>127.000000</td>\n",
              "      <td>510.000000</td>\n",
              "      <td>20.000000</td>\n",
              "      <td>216.400000</td>\n",
              "      <td>114.000000</td>\n",
              "      <td>36.790000</td>\n",
              "      <td>235.300000</td>\n",
              "      <td>114.000000</td>\n",
              "      <td>20.000000</td>\n",
              "      <td>235.300000</td>\n",
              "      <td>113.000000</td>\n",
              "      <td>10.590000</td>\n",
              "      <td>12.100000</td>\n",
              "      <td>6.000000</td>\n",
              "      <td>3.270000</td>\n",
              "      <td>2.000000</td>\n",
              "    </tr>\n",
              "    <tr>\n",
              "      <th>max</th>\n",
              "      <td>243.000000</td>\n",
              "      <td>510.000000</td>\n",
              "      <td>51.000000</td>\n",
              "      <td>350.800000</td>\n",
              "      <td>165.000000</td>\n",
              "      <td>59.640000</td>\n",
              "      <td>363.700000</td>\n",
              "      <td>170.000000</td>\n",
              "      <td>30.910000</td>\n",
              "      <td>395.000000</td>\n",
              "      <td>175.000000</td>\n",
              "      <td>17.770000</td>\n",
              "      <td>20.000000</td>\n",
              "      <td>20.000000</td>\n",
              "      <td>5.400000</td>\n",
              "      <td>9.000000</td>\n",
              "    </tr>\n",
              "  </tbody>\n",
              "</table>\n",
              "</div>\n",
              "    <div class=\"colab-df-buttons\">\n",
              "\n",
              "  <div class=\"colab-df-container\">\n",
              "    <button class=\"colab-df-convert\" onclick=\"convertToInteractive('df-4229f042-81f6-4801-ae14-365fc14392c8')\"\n",
              "            title=\"Convert this dataframe to an interactive table.\"\n",
              "            style=\"display:none;\">\n",
              "\n",
              "  <svg xmlns=\"http://www.w3.org/2000/svg\" height=\"24px\" viewBox=\"0 -960 960 960\">\n",
              "    <path d=\"M120-120v-720h720v720H120Zm60-500h600v-160H180v160Zm220 220h160v-160H400v160Zm0 220h160v-160H400v160ZM180-400h160v-160H180v160Zm440 0h160v-160H620v160ZM180-180h160v-160H180v160Zm440 0h160v-160H620v160Z\"/>\n",
              "  </svg>\n",
              "    </button>\n",
              "\n",
              "  <style>\n",
              "    .colab-df-container {\n",
              "      display:flex;\n",
              "      gap: 12px;\n",
              "    }\n",
              "\n",
              "    .colab-df-convert {\n",
              "      background-color: #E8F0FE;\n",
              "      border: none;\n",
              "      border-radius: 50%;\n",
              "      cursor: pointer;\n",
              "      display: none;\n",
              "      fill: #1967D2;\n",
              "      height: 32px;\n",
              "      padding: 0 0 0 0;\n",
              "      width: 32px;\n",
              "    }\n",
              "\n",
              "    .colab-df-convert:hover {\n",
              "      background-color: #E2EBFA;\n",
              "      box-shadow: 0px 1px 2px rgba(60, 64, 67, 0.3), 0px 1px 3px 1px rgba(60, 64, 67, 0.15);\n",
              "      fill: #174EA6;\n",
              "    }\n",
              "\n",
              "    .colab-df-buttons div {\n",
              "      margin-bottom: 4px;\n",
              "    }\n",
              "\n",
              "    [theme=dark] .colab-df-convert {\n",
              "      background-color: #3B4455;\n",
              "      fill: #D2E3FC;\n",
              "    }\n",
              "\n",
              "    [theme=dark] .colab-df-convert:hover {\n",
              "      background-color: #434B5C;\n",
              "      box-shadow: 0px 1px 3px 1px rgba(0, 0, 0, 0.15);\n",
              "      filter: drop-shadow(0px 1px 2px rgba(0, 0, 0, 0.3));\n",
              "      fill: #FFFFFF;\n",
              "    }\n",
              "  </style>\n",
              "\n",
              "    <script>\n",
              "      const buttonEl =\n",
              "        document.querySelector('#df-4229f042-81f6-4801-ae14-365fc14392c8 button.colab-df-convert');\n",
              "      buttonEl.style.display =\n",
              "        google.colab.kernel.accessAllowed ? 'block' : 'none';\n",
              "\n",
              "      async function convertToInteractive(key) {\n",
              "        const element = document.querySelector('#df-4229f042-81f6-4801-ae14-365fc14392c8');\n",
              "        const dataTable =\n",
              "          await google.colab.kernel.invokeFunction('convertToInteractive',\n",
              "                                                    [key], {});\n",
              "        if (!dataTable) return;\n",
              "\n",
              "        const docLinkHtml = 'Like what you see? Visit the ' +\n",
              "          '<a target=\"_blank\" href=https://colab.research.google.com/notebooks/data_table.ipynb>data table notebook</a>'\n",
              "          + ' to learn more about interactive tables.';\n",
              "        element.innerHTML = '';\n",
              "        dataTable['output_type'] = 'display_data';\n",
              "        await google.colab.output.renderOutput(dataTable, element);\n",
              "        const docLink = document.createElement('div');\n",
              "        docLink.innerHTML = docLinkHtml;\n",
              "        element.appendChild(docLink);\n",
              "      }\n",
              "    </script>\n",
              "  </div>\n",
              "\n",
              "\n",
              "<div id=\"df-a72de947-937f-4be7-8499-1e0a75e7c7f3\">\n",
              "  <button class=\"colab-df-quickchart\" onclick=\"quickchart('df-a72de947-937f-4be7-8499-1e0a75e7c7f3')\"\n",
              "            title=\"Suggest charts.\"\n",
              "            style=\"display:none;\">\n",
              "\n",
              "<svg xmlns=\"http://www.w3.org/2000/svg\" height=\"24px\"viewBox=\"0 0 24 24\"\n",
              "     width=\"24px\">\n",
              "    <g>\n",
              "        <path d=\"M19 3H5c-1.1 0-2 .9-2 2v14c0 1.1.9 2 2 2h14c1.1 0 2-.9 2-2V5c0-1.1-.9-2-2-2zM9 17H7v-7h2v7zm4 0h-2V7h2v10zm4 0h-2v-4h2v4z\"/>\n",
              "    </g>\n",
              "</svg>\n",
              "  </button>\n",
              "\n",
              "<style>\n",
              "  .colab-df-quickchart {\n",
              "    background-color: #E8F0FE;\n",
              "    border: none;\n",
              "    border-radius: 50%;\n",
              "    cursor: pointer;\n",
              "    display: none;\n",
              "    fill: #1967D2;\n",
              "    height: 32px;\n",
              "    padding: 0 0 0 0;\n",
              "    width: 32px;\n",
              "  }\n",
              "\n",
              "  .colab-df-quickchart:hover {\n",
              "    background-color: #E2EBFA;\n",
              "    box-shadow: 0px 1px 2px rgba(60, 64, 67, 0.3), 0px 1px 3px 1px rgba(60, 64, 67, 0.15);\n",
              "    fill: #174EA6;\n",
              "  }\n",
              "\n",
              "  [theme=dark] .colab-df-quickchart {\n",
              "    background-color: #3B4455;\n",
              "    fill: #D2E3FC;\n",
              "  }\n",
              "\n",
              "  [theme=dark] .colab-df-quickchart:hover {\n",
              "    background-color: #434B5C;\n",
              "    box-shadow: 0px 1px 3px 1px rgba(0, 0, 0, 0.15);\n",
              "    filter: drop-shadow(0px 1px 2px rgba(0, 0, 0, 0.3));\n",
              "    fill: #FFFFFF;\n",
              "  }\n",
              "</style>\n",
              "\n",
              "  <script>\n",
              "    async function quickchart(key) {\n",
              "      const charts = await google.colab.kernel.invokeFunction(\n",
              "          'suggestCharts', [key], {});\n",
              "    }\n",
              "    (() => {\n",
              "      let quickchartButtonEl =\n",
              "        document.querySelector('#df-a72de947-937f-4be7-8499-1e0a75e7c7f3 button');\n",
              "      quickchartButtonEl.style.display =\n",
              "        google.colab.kernel.accessAllowed ? 'block' : 'none';\n",
              "    })();\n",
              "  </script>\n",
              "</div>\n",
              "    </div>\n",
              "  </div>\n"
            ]
          },
          "metadata": {},
          "execution_count": 108
        }
      ]
    },
    {
      "cell_type": "markdown",
      "source": [
        "This begins to give us an idea of a customer's mean service usage."
      ],
      "metadata": {
        "id": "4nX7VBNwT7fR"
      }
    },
    {
      "cell_type": "markdown",
      "source": [
        "##2. Data Exploration"
      ],
      "metadata": {
        "id": "v0TfRJUkUFd9"
      }
    },
    {
      "cell_type": "markdown",
      "source": [
        "###**A. Class Imbalance**\n",
        "\n",
        "A general trend with churn classification problems is that there tends to be class imbalance, meaning that more customers tend to stay with the company than churn. This is something that will have to be accounted for in our modeling. But first, we must confirm this assumption."
      ],
      "metadata": {
        "id": "5ZZFl-wfUOHp"
      }
    },
    {
      "cell_type": "code",
      "source": [
        "#Return value counts of churn\n",
        "churn_count = [df['churn'].value_counts()[0], df['churn'].value_counts()[1]]\n",
        "\n",
        "#Plot the value counts\n",
        "fig, ax = plt.subplots()\n",
        "\n",
        "bar = ax.bar(x=['No Churn', 'Churn'], height=churn_count)\n",
        "#Show bar labels\n",
        "ax.bar_label(bar)\n",
        "plt.show()"
      ],
      "metadata": {
        "colab": {
          "base_uri": "https://localhost:8080/",
          "height": 430
        },
        "id": "r07hF6gzUJaD",
        "outputId": "7a64c883-df19-4b96-a4f8-169d180d5c45"
      },
      "execution_count": 109,
      "outputs": [
        {
          "output_type": "display_data",
          "data": {
            "text/plain": [
              "<Figure size 640x480 with 1 Axes>"
            ],
            "image/png": "[encoded data removed]"
          },
          "metadata": {}
        }
      ]
    },
    {
      "cell_type": "markdown",
      "source": [
        "In our data preparation stage, we'll create synthetic samples of our minority class."
      ],
      "metadata": {
        "id": "1PK3PvhzGgRO"
      }
    },
    {
      "cell_type": "markdown",
      "source": [
        "###**B. Relationship between customer service calls and churn**"
      ],
      "metadata": {
        "id": "enSK7LYKKAdG"
      }
    },
    {
      "cell_type": "markdown",
      "source": [
        "We'll next want to visually explore how certain features interact with churn. We can really group our features into a few subsets.\n",
        "\n",
        "\n",
        "1.   **Customer information:** this includes the features such as state, area code, phone number, etc.\n",
        "2.   **Plan information:** this includes the details of the plan of a given customers. The features here are international plan and voicemail plan.\n",
        "3. **Usage and charges:** this accounts for the bulk of the features, and includes the features for amount of calls, minutes and charges.\n",
        "4. **Customer service interaction:** this is the column customer service calls, and shows how many times the customer reached out to customer service.\n",
        "\n",
        "Our initial thought is that a customer that frequently speaks with customer service is an unhappy customer, and therefore likely to churn. Let's probe this assumption. To begin, we'll first get an idea of the frequency distributions of customer service calls.\n",
        "\n"
      ],
      "metadata": {
        "id": "cP01UiAOH4NR"
      }
    },
    {
      "cell_type": "code",
      "source": [
        "fig, ax = plt.subplots()\n",
        "\n",
        "#Prepare a list of the labels\n",
        "labels = ['0','1','2','3', '4','5','6','7','8','9']\n",
        "\n",
        "#Create bar plot with labels and count of customer service calls\n",
        "bar = ax.bar(x=labels, height=df['customer service calls'].value_counts())\n",
        "\n",
        "#Print labels for bars\n",
        "ax.bar_label(bar)\n",
        "ax.set_title('Customer Service Calls Distribution')\n",
        "\n",
        "plt.show()\n"
      ],
      "metadata": {
        "id": "H68uQIkwKcb5",
        "outputId": "0df06776-412e-4c99-de40-c84e67147100",
        "colab": {
          "base_uri": "https://localhost:8080/",
          "height": 452
        }
      },
      "execution_count": 110,
      "outputs": [
        {
          "output_type": "display_data",
          "data": {
            "text/plain": [
              "<Figure size 640x480 with 1 Axes>"
            ],
            "image/png": "[encoded data removed]"
          },
          "metadata": {}
        }
      ]
    },
    {
      "cell_type": "markdown",
      "source": [
        "As we can see, an overwhelming majority of customers called customer service less than 3 times."
      ],
      "metadata": {
        "id": "RuEA3ySvWrPB"
      }
    },
    {
      "cell_type": "code",
      "source": [
        "#Create new data frame to show metrics for customer service calls\n",
        "df_2 = df[['customer service calls', 'churn']]\n",
        "\n",
        "#Create lists containing metrics for churn count, no churn count, and total calls\n",
        "churn = [df_2.groupby('customer service calls').sum()['churn'][calls] for calls in range(0,10)]\n",
        "no_churn = [df_2['customer service calls'].value_counts()[calls]-churn[calls] for calls in range(0,10)]\n",
        "churn_percentage = [churn[calls]/(churn[calls]+no_churn[calls]) for calls in range(0,10)]\n",
        "\n",
        "#Create pivot table that returns number of customer service calls and churn percentage\n",
        "pivot_df = pd.pivot_table(data=df_2, index='customer service calls')\n",
        "\n",
        "#Rename the column to churn percentage\n",
        "pivot_df.rename(columns={'churn': 'churn_percentage'}, inplace=True)\n",
        "\n",
        "#Add new columns from lists above\n",
        "pivot_df['count'] = df['customer service calls'].value_counts()\n",
        "pivot_df['churn'] = pd.Series(churn)\n",
        "pivot_df['no_churn'] = pd.Series(no_churn)\n",
        "\n",
        "pivot_df"
      ],
      "metadata": {
        "colab": {
          "base_uri": "https://localhost:8080/",
          "height": 394
        },
        "id": "FbBXca3CXCQg",
        "outputId": "adc96412-bf2b-4b40-f427-1c4ed67663b1"
      },
      "execution_count": 111,
      "outputs": [
        {
          "output_type": "execute_result",
          "data": {
            "text/plain": [
              "                        churn_percentage  count  churn  no_churn\n",
              "customer service calls                                          \n",
              "0                               0.131994    697     92       605\n",
              "1                               0.103302   1181    122      1059\n",
              "2                               0.114625    759     87       672\n",
              "3                               0.102564    429     44       385\n",
              "4                               0.457831    166     76        90\n",
              "5                               0.606061     66     40        26\n",
              "6                               0.636364     22     14         8\n",
              "7                               0.555556      9      5         4\n",
              "8                               0.500000      2      1         1\n",
              "9                               1.000000      2      2         0"
            ],
            "text/html": [
              "\n",
              "  <div id=\"df-5362e1ca-3e99-4ef1-9add-ba3cd0d6cdbb\" class=\"colab-df-container\">\n",
              "    <div>\n",
              "<style scoped>\n",
              "    .dataframe tbody tr th:only-of-type {\n",
              "        vertical-align: middle;\n",
              "    }\n",
              "\n",
              "    .dataframe tbody tr th {\n",
              "        vertical-align: top;\n",
              "    }\n",
              "\n",
              "    .dataframe thead th {\n",
              "        text-align: right;\n",
              "    }\n",
              "</style>\n",
              "<table border=\"1\" class=\"dataframe\">\n",
              "  <thead>\n",
              "    <tr style=\"text-align: right;\">\n",
              "      <th></th>\n",
              "      <th>churn_percentage</th>\n",
              "      <th>count</th>\n",
              "      <th>churn</th>\n",
              "      <th>no_churn</th>\n",
              "    </tr>\n",
              "    <tr>\n",
              "      <th>customer service calls</th>\n",
              "      <th></th>\n",
              "      <th></th>\n",
              "      <th></th>\n",
              "      <th></th>\n",
              "    </tr>\n",
              "  </thead>\n",
              "  <tbody>\n",
              "    <tr>\n",
              "      <th>0</th>\n",
              "      <td>0.131994</td>\n",
              "      <td>697</td>\n",
              "      <td>92</td>\n",
              "      <td>605</td>\n",
              "    </tr>\n",
              "    <tr>\n",
              "      <th>1</th>\n",
              "      <td>0.103302</td>\n",
              "      <td>1181</td>\n",
              "      <td>122</td>\n",
              "      <td>1059</td>\n",
              "    </tr>\n",
              "    <tr>\n",
              "      <th>2</th>\n",
              "      <td>0.114625</td>\n",
              "      <td>759</td>\n",
              "      <td>87</td>\n",
              "      <td>672</td>\n",
              "    </tr>\n",
              "    <tr>\n",
              "      <th>3</th>\n",
              "      <td>0.102564</td>\n",
              "      <td>429</td>\n",
              "      <td>44</td>\n",
              "      <td>385</td>\n",
              "    </tr>\n",
              "    <tr>\n",
              "      <th>4</th>\n",
              "      <td>0.457831</td>\n",
              "      <td>166</td>\n",
              "      <td>76</td>\n",
              "      <td>90</td>\n",
              "    </tr>\n",
              "    <tr>\n",
              "      <th>5</th>\n",
              "      <td>0.606061</td>\n",
              "      <td>66</td>\n",
              "      <td>40</td>\n",
              "      <td>26</td>\n",
              "    </tr>\n",
              "    <tr>\n",
              "      <th>6</th>\n",
              "      <td>0.636364</td>\n",
              "      <td>22</td>\n",
              "      <td>14</td>\n",
              "      <td>8</td>\n",
              "    </tr>\n",
              "    <tr>\n",
              "      <th>7</th>\n",
              "      <td>0.555556</td>\n",
              "      <td>9</td>\n",
              "      <td>5</td>\n",
              "      <td>4</td>\n",
              "    </tr>\n",
              "    <tr>\n",
              "      <th>8</th>\n",
              "      <td>0.500000</td>\n",
              "      <td>2</td>\n",
              "      <td>1</td>\n",
              "      <td>1</td>\n",
              "    </tr>\n",
              "    <tr>\n",
              "      <th>9</th>\n",
              "      <td>1.000000</td>\n",
              "      <td>2</td>\n",
              "      <td>2</td>\n",
              "      <td>0</td>\n",
              "    </tr>\n",
              "  </tbody>\n",
              "</table>\n",
              "</div>\n",
              "    <div class=\"colab-df-buttons\">\n",
              "\n",
              "  <div class=\"colab-df-container\">\n",
              "    <button class=\"colab-df-convert\" onclick=\"convertToInteractive('df-5362e1ca-3e99-4ef1-9add-ba3cd0d6cdbb')\"\n",
              "            title=\"Convert this dataframe to an interactive table.\"\n",
              "            style=\"display:none;\">\n",
              "\n",
              "  <svg xmlns=\"http://www.w3.org/2000/svg\" height=\"24px\" viewBox=\"0 -960 960 960\">\n",
              "    <path d=\"M120-120v-720h720v720H120Zm60-500h600v-160H180v160Zm220 220h160v-160H400v160Zm0 220h160v-160H400v160ZM180-400h160v-160H180v160Zm440 0h160v-160H620v160ZM180-180h160v-160H180v160Zm440 0h160v-160H620v160Z\"/>\n",
              "  </svg>\n",
              "    </button>\n",
              "\n",
              "  <style>\n",
              "    .colab-df-container {\n",
              "      display:flex;\n",
              "      gap: 12px;\n",
              "    }\n",
              "\n",
              "    .colab-df-convert {\n",
              "      background-color: #E8F0FE;\n",
              "      border: none;\n",
              "      border-radius: 50%;\n",
              "      cursor: pointer;\n",
              "      display: none;\n",
              "      fill: #1967D2;\n",
              "      height: 32px;\n",
              "      padding: 0 0 0 0;\n",
              "      width: 32px;\n",
              "    }\n",
              "\n",
              "    .colab-df-convert:hover {\n",
              "      background-color: #E2EBFA;\n",
              "      box-shadow: 0px 1px 2px rgba(60, 64, 67, 0.3), 0px 1px 3px 1px rgba(60, 64, 67, 0.15);\n",
              "      fill: #174EA6;\n",
              "    }\n",
              "\n",
              "    .colab-df-buttons div {\n",
              "      margin-bottom: 4px;\n",
              "    }\n",
              "\n",
              "    [theme=dark] .colab-df-convert {\n",
              "      background-color: #3B4455;\n",
              "      fill: #D2E3FC;\n",
              "    }\n",
              "\n",
              "    [theme=dark] .colab-df-convert:hover {\n",
              "      background-color: #434B5C;\n",
              "      box-shadow: 0px 1px 3px 1px rgba(0, 0, 0, 0.15);\n",
              "      filter: drop-shadow(0px 1px 2px rgba(0, 0, 0, 0.3));\n",
              "      fill: #FFFFFF;\n",
              "    }\n",
              "  </style>\n",
              "\n",
              "    <script>\n",
              "      const buttonEl =\n",
              "        document.querySelector('#df-5362e1ca-3e99-4ef1-9add-ba3cd0d6cdbb button.colab-df-convert');\n",
              "      buttonEl.style.display =\n",
              "        google.colab.kernel.accessAllowed ? 'block' : 'none';\n",
              "\n",
              "      async function convertToInteractive(key) {\n",
              "        const element = document.querySelector('#df-5362e1ca-3e99-4ef1-9add-ba3cd0d6cdbb');\n",
              "        const dataTable =\n",
              "          await google.colab.kernel.invokeFunction('convertToInteractive',\n",
              "                                                    [key], {});\n",
              "        if (!dataTable) return;\n",
              "\n",
              "        const docLinkHtml = 'Like what you see? Visit the ' +\n",
              "          '<a target=\"_blank\" href=https://colab.research.google.com/notebooks/data_table.ipynb>data table notebook</a>'\n",
              "          + ' to learn more about interactive tables.';\n",
              "        element.innerHTML = '';\n",
              "        dataTable['output_type'] = 'display_data';\n",
              "        await google.colab.output.renderOutput(dataTable, element);\n",
              "        const docLink = document.createElement('div');\n",
              "        docLink.innerHTML = docLinkHtml;\n",
              "        element.appendChild(docLink);\n",
              "      }\n",
              "    </script>\n",
              "  </div>\n",
              "\n",
              "\n",
              "<div id=\"df-649037ab-e10f-40ca-abb0-ff83c28ea01d\">\n",
              "  <button class=\"colab-df-quickchart\" onclick=\"quickchart('df-649037ab-e10f-40ca-abb0-ff83c28ea01d')\"\n",
              "            title=\"Suggest charts.\"\n",
              "            style=\"display:none;\">\n",
              "\n",
              "<svg xmlns=\"http://www.w3.org/2000/svg\" height=\"24px\"viewBox=\"0 0 24 24\"\n",
              "     width=\"24px\">\n",
              "    <g>\n",
              "        <path d=\"M19 3H5c-1.1 0-2 .9-2 2v14c0 1.1.9 2 2 2h14c1.1 0 2-.9 2-2V5c0-1.1-.9-2-2-2zM9 17H7v-7h2v7zm4 0h-2V7h2v10zm4 0h-2v-4h2v4z\"/>\n",
              "    </g>\n",
              "</svg>\n",
              "  </button>\n",
              "\n",
              "<style>\n",
              "  .colab-df-quickchart {\n",
              "    background-color: #E8F0FE;\n",
              "    border: none;\n",
              "    border-radius: 50%;\n",
              "    cursor: pointer;\n",
              "    display: none;\n",
              "    fill: #1967D2;\n",
              "    height: 32px;\n",
              "    padding: 0 0 0 0;\n",
              "    width: 32px;\n",
              "  }\n",
              "\n",
              "  .colab-df-quickchart:hover {\n",
              "    background-color: #E2EBFA;\n",
              "    box-shadow: 0px 1px 2px rgba(60, 64, 67, 0.3), 0px 1px 3px 1px rgba(60, 64, 67, 0.15);\n",
              "    fill: #174EA6;\n",
              "  }\n",
              "\n",
              "  [theme=dark] .colab-df-quickchart {\n",
              "    background-color: #3B4455;\n",
              "    fill: #D2E3FC;\n",
              "  }\n",
              "\n",
              "  [theme=dark] .colab-df-quickchart:hover {\n",
              "    background-color: #434B5C;\n",
              "    box-shadow: 0px 1px 3px 1px rgba(0, 0, 0, 0.15);\n",
              "    filter: drop-shadow(0px 1px 2px rgba(0, 0, 0, 0.3));\n",
              "    fill: #FFFFFF;\n",
              "  }\n",
              "</style>\n",
              "\n",
              "  <script>\n",
              "    async function quickchart(key) {\n",
              "      const charts = await google.colab.kernel.invokeFunction(\n",
              "          'suggestCharts', [key], {});\n",
              "    }\n",
              "    (() => {\n",
              "      let quickchartButtonEl =\n",
              "        document.querySelector('#df-649037ab-e10f-40ca-abb0-ff83c28ea01d button');\n",
              "      quickchartButtonEl.style.display =\n",
              "        google.colab.kernel.accessAllowed ? 'block' : 'none';\n",
              "    })();\n",
              "  </script>\n",
              "</div>\n",
              "    </div>\n",
              "  </div>\n"
            ]
          },
          "metadata": {},
          "execution_count": 111
        }
      ]
    },
    {
      "cell_type": "markdown",
      "source": [
        "The above table lets us look at the numerics. We see the churn percentage begin to increase as the amount of customer service calls increases. Below, we'll depict this with plots."
      ],
      "metadata": {
        "id": "0Sk_pufX9g0B"
      }
    },
    {
      "cell_type": "code",
      "source": [
        "fig, axes = plt.subplots(1, 2, figsize=(15,6))\n",
        "\n",
        "#Draw bar plot showing churn/no churn for customers who made 0-3 calls\n",
        "axes[0].bar(x=labels[0:4], height=no_churn[0:4], label='No Churn')\n",
        "axes[0].bar(x=labels[0:4], height=churn[0:4], bottom=no_churn[0:4], label='Churn')\n",
        "axes[0].legend()\n",
        "axes[0].set_title('Churn for 0-3 Customer Service Calls')\n",
        "\n",
        "#Draw bar plot showing churn/no churn for customers who made 4-9 calls\n",
        "axes[1].bar(x=labels[4:], height=no_churn[4:], label='No Churn')\n",
        "axes[1].bar(x=labels[4:], height=churn[4:], bottom=no_churn[4:], label='Churn')\n",
        "axes[1].legend()\n",
        "axes[1].set_title('Churn for 4+ Customer Service Calls');"
      ],
      "metadata": {
        "colab": {
          "base_uri": "https://localhost:8080/",
          "height": 496
        },
        "id": "-zCOiY1uwEUR",
        "outputId": "5a9d52b6-36e8-4c90-ecfb-ea02a7e0c0f9"
      },
      "execution_count": 112,
      "outputs": [
        {
          "output_type": "display_data",
          "data": {
            "text/plain": [
              "<Figure size 1500x600 with 2 Axes>"
            ],
            "image/png": "[encoded data removed]"
          },
          "metadata": {}
        }
      ]
    },
    {
      "cell_type": "code",
      "source": [
        "#Draw bar plot showing churn percentage\n",
        "plt.bar(labels, pivot_df['churn_percentage'])\n",
        "plt.title('Churn Percentage Per Customer Service Calls')\n",
        "plt.xlabel('Customer Service Calls')\n",
        "plt.ylabel('Churn Percentage');"
      ],
      "metadata": {
        "colab": {
          "base_uri": "https://localhost:8080/",
          "height": 472
        },
        "id": "gYnn5YmaOEns",
        "outputId": "9a372eec-1af4-4ba4-bbc3-7c0a2a704620"
      },
      "execution_count": 113,
      "outputs": [
        {
          "output_type": "display_data",
          "data": {
            "text/plain": [
              "<Figure size 640x480 with 1 Axes>"
            ],
            "image/png": "[encoded data removed]"
          },
          "metadata": {}
        }
      ]
    },
    {
      "cell_type": "markdown",
      "source": [
        "As we can see from our table and bar charts, customers who made less than 3 customer service calls had a very small rate of churn (roughly 10%). On the other hand, customers who frequently spoke with customer service had a high rate of churn (roughly 50% or more). This supports our assumption that customers who make more customer service calls are generally unhappy, and are resultingly likely to churn."
      ],
      "metadata": {
        "id": "-9krZ4BJXFXe"
      }
    },
    {
      "cell_type": "markdown",
      "source": [
        "###**C. Domestic usage, fees and churn**"
      ],
      "metadata": {
        "id": "C-7M9pmo6hGs"
      }
    },
    {
      "cell_type": "markdown",
      "source": [
        "The correlation between high service usage (and therefore more payments) and churn is harder to predict. Perhaps a customer that makes frequent calls is reliant on the service and unlikely to churn, whereas a customer with lower usage is likely to jump for a cheaper alternative. Or maybe customers that use the service frequently have more negative experiences which would make them likely to churn.\n",
        "\n",
        "In order to begin to analyze this, we're first going to look at some frequency distributions of usage and payments. To simplify things for now, we're going to create new features entitled ```'total_calls'```, ```'total_charges'```, and ```'total_minutes'``` and look at frequency distributions and bar plots.\n",
        "\n",
        "As noted in the title of this section, this analysis is only going to focus on domestic usage and fees. We'll explore international activity in a separate section."
      ],
      "metadata": {
        "id": "p9e_8OBB6rUt"
      }
    },
    {
      "cell_type": "code",
      "source": [
        "#Create copy of original data frame\n",
        "df_3 = df.copy()\n",
        "\n",
        "#Create list to serve as labels for new features\n",
        "new_features = ['minutes', 'calls', 'charge']\n",
        "\n",
        "#Loop thru feature list and create new features that sum day, evening and nighttime values\n",
        "for feature in new_features:\n",
        "  df_3[f'total {feature}'] = df_3[f'total day {feature}'] + df_3[f'total eve {feature}'] + df_3[f'total night {feature}']"
      ],
      "metadata": {
        "id": "foqyb_vw7fYx"
      },
      "execution_count": 114,
      "outputs": []
    },
    {
      "cell_type": "code",
      "source": [
        "fig, axes = plt.subplots(1,3, figsize=(14,4))\n",
        "\n",
        "#Plot frequency distributions\n",
        "for n, feature in enumerate(new_features):\n",
        "    sns.histplot(data=df_3[f'total {feature}'], kde=True, ax=axes[n])\n",
        "    m = df_3[f'total {feature}'].mean() #Store mean of each feature\n",
        "    axes[n].vlines(x=m, ymin=0, ymax=250, color='r', label=f'Mean: {m}') #Plot mean of each feature\n",
        "    axes[n].legend()\n"
      ],
      "metadata": {
        "id": "_VT_jacZGcQU",
        "outputId": "fd4936f8-2f4e-45a4-99e6-468402595710",
        "colab": {
          "base_uri": "https://localhost:8080/",
          "height": 373
        }
      },
      "execution_count": 115,
      "outputs": [
        {
          "output_type": "display_data",
          "data": {
            "text/plain": [
              "<Figure size 1400x400 with 3 Axes>"
            ],
            "image/png": "[encoded data removed]"
          },
          "metadata": {}
        }
      ]
    },
    {
      "cell_type": "markdown",
      "source": [
        "The total amount of minutes, calls and charges are all normally distributed. We don't know for sure, but it seems that these figures represent monthly measures. It's hard to imagine that an American, on average, makes less than 1 call a day. Now, let's see how these features interact with churn."
      ],
      "metadata": {
        "id": "lkeBpwIxHJmV"
      }
    },
    {
      "cell_type": "code",
      "source": [
        "fig, axes = plt.subplots(1,3,figsize=(17,5))\n",
        "\n",
        "#Loop thru features and plot box plots\n",
        "for n, feature in enumerate(new_features):\n",
        "  sns.boxplot(x=df['churn'], y=df_3[f'total {feature}'], ax=axes[n])"
      ],
      "metadata": {
        "colab": {
          "base_uri": "https://localhost:8080/",
          "height": 376
        },
        "id": "xhtGfwnzKn2I",
        "outputId": "fcf44556-44d3-4d1b-96ee-f2944e3b4dff"
      },
      "execution_count": 116,
      "outputs": [
        {
          "output_type": "display_data",
          "data": {
            "text/plain": [
              "<Figure size 1700x500 with 3 Axes>"
            ],
            "image/png": "[encoded data removed]"
          },
          "metadata": {}
        }
      ]
    },
    {
      "cell_type": "markdown",
      "source": [
        "The box plots demonstrate that the customers that churned logged, in general, more minutes than those that did not churn. Additionally, customers that churned, in general, faced a higher charge than those that did not churn. On the other hand, the median and inter-quartile range of number of calls did not vary between those that churned and those that did not churn.\n",
        "\n",
        "Minutes and charge are obviously positively correlated. It's fair to assume that charge is the real driver of churn, whereas increased minutes just raises the charge.\n",
        "\n",
        "We're going to break ```'total charge'``` into its original subsets, look at price/minute for the different times of day, and look for a relationship with churn."
      ],
      "metadata": {
        "id": "VWhEJbSEewu7"
      }
    },
    {
      "cell_type": "code",
      "source": [
        "fig, ax = plt.subplots()\n",
        "\n",
        "#Create list of subsets\n",
        "times = ['day', 'eve', 'night']\n",
        "\n",
        "#Create list that contains charge per minute per time of day\n",
        "charge_per_minute = [np.sum(df[f'total {x} charge'])/np.sum(df[f'total {x} minutes']) for x in times]\n",
        "\n",
        "#Put it all in a bar plot\n",
        "cpm_plot = ax.bar(x=['Day Calls', 'Evening Calls', 'Night Calls'], height=charge_per_minute)\n",
        "\n",
        "ax.bar_label(cpm_plot)\n",
        "\n",
        "plt.show()\n"
      ],
      "metadata": {
        "colab": {
          "base_uri": "https://localhost:8080/",
          "height": 430
        },
        "id": "FJ3gCvrGOFhe",
        "outputId": "3cd8b4a8-420f-4a6c-ec54-2e9b30cd26c5"
      },
      "execution_count": 117,
      "outputs": [
        {
          "output_type": "display_data",
          "data": {
            "text/plain": [
              "<Figure size 640x480 with 1 Axes>"
            ],
            "image/png": "[encoded data removed]"
          },
          "metadata": {}
        }
      ]
    },
    {
      "cell_type": "markdown",
      "source": [
        "We see that the average charge per minute for day calls is significantly higher than the average charge per minute for evening and night calls, and expect that this will impact churn. Below, we'll look at box plots."
      ],
      "metadata": {
        "id": "LWXMhnkhAygR"
      }
    },
    {
      "cell_type": "code",
      "source": [
        "fig, axes = plt.subplots(1,3,figsize=(17,5))\n",
        "\n",
        "#Loop thru times a day and draw box plots\n",
        "for n, time in enumerate(times):\n",
        "  sns.boxplot(x=df['churn'], y=df_3[f'total {time} charge'], ax=axes[n])"
      ],
      "metadata": {
        "colab": {
          "base_uri": "https://localhost:8080/",
          "height": 377
        },
        "id": "1ZE2LYQoPwOC",
        "outputId": "677e1c57-6756-4bce-cf79-d726737589c0"
      },
      "execution_count": 118,
      "outputs": [
        {
          "output_type": "display_data",
          "data": {
            "text/plain": [
              "<Figure size 1700x500 with 3 Axes>"
            ],
            "image/png": "[encoded data removed]"
          },
          "metadata": {}
        }
      ]
    },
    {
      "cell_type": "markdown",
      "source": [
        "We see from the first plot that customers who churned faced a higher day charge (in general) than those that did not churn, whereas there does not seem to be a signficant impact of evening and nighttime charges on churn."
      ],
      "metadata": {
        "id": "_UEQDYLcCszc"
      }
    },
    {
      "cell_type": "markdown",
      "source": [
        "###**D. The relationship between location and churn**"
      ],
      "metadata": {
        "id": "jvHo9pzCgIUs"
      }
    },
    {
      "cell_type": "markdown",
      "source": [
        "Anyone who has ever used a phone knows the dreaded feeling of being in a \"dead zone.\" It would not be a surprise if certain states were more prone to bad service than others. We'll explore this below."
      ],
      "metadata": {
        "id": "aK2PePVAgQS-"
      }
    },
    {
      "cell_type": "code",
      "source": [
        "state_df = df[['state', 'churn']]\n",
        "state_df = state_df.groupby('state').sum()\n",
        "state_df['total_customers'] = df['state'].value_counts()\n",
        "state_df['no_churn'] = state_df['total_customers'] - state_df['churn']\n",
        "state_df['churn_percentage'] = state_df['churn']/state_df['total_customers']\n",
        "state_df.sort_values('churn_percentage', ascending=False).head(10)"
      ],
      "metadata": {
        "id": "7Y4OKAxkjcVK",
        "colab": {
          "base_uri": "https://localhost:8080/",
          "height": 394
        },
        "outputId": "466f0862-4bb6-4ceb-924e-96047ab5b8fe"
      },
      "execution_count": 119,
      "outputs": [
        {
          "output_type": "execute_result",
          "data": {
            "text/plain": [
              "       churn  total_customers  no_churn  churn_percentage\n",
              "state                                                    \n",
              "NJ        18               68        50          0.264706\n",
              "CA         9               34        25          0.264706\n",
              "TX        18               72        54          0.250000\n",
              "MD        17               70        53          0.242857\n",
              "SC        14               60        46          0.233333\n",
              "MI        16               73        57          0.219178\n",
              "MS        14               65        51          0.215385\n",
              "NV        14               66        52          0.212121\n",
              "WA        14               66        52          0.212121\n",
              "ME        13               62        49          0.209677"
            ],
            "text/html": [
              "\n",
              "  <div id=\"df-d145e8e5-3897-47ad-b7b6-b1af0a53f7eb\" class=\"colab-df-container\">\n",
              "    <div>\n",
              "<style scoped>\n",
              "    .dataframe tbody tr th:only-of-type {\n",
              "        vertical-align: middle;\n",
              "    }\n",
              "\n",
              "    .dataframe tbody tr th {\n",
              "        vertical-align: top;\n",
              "    }\n",
              "\n",
              "    .dataframe thead th {\n",
              "        text-align: right;\n",
              "    }\n",
              "</style>\n",
              "<table border=\"1\" class=\"dataframe\">\n",
              "  <thead>\n",
              "    <tr style=\"text-align: right;\">\n",
              "      <th></th>\n",
              "      <th>churn</th>\n",
              "      <th>total_customers</th>\n",
              "      <th>no_churn</th>\n",
              "      <th>churn_percentage</th>\n",
              "    </tr>\n",
              "    <tr>\n",
              "      <th>state</th>\n",
              "      <th></th>\n",
              "      <th></th>\n",
              "      <th></th>\n",
              "      <th></th>\n",
              "    </tr>\n",
              "  </thead>\n",
              "  <tbody>\n",
              "    <tr>\n",
              "      <th>NJ</th>\n",
              "      <td>18</td>\n",
              "      <td>68</td>\n",
              "      <td>50</td>\n",
              "      <td>0.264706</td>\n",
              "    </tr>\n",
              "    <tr>\n",
              "      <th>CA</th>\n",
              "      <td>9</td>\n",
              "      <td>34</td>\n",
              "      <td>25</td>\n",
              "      <td>0.264706</td>\n",
              "    </tr>\n",
              "    <tr>\n",
              "      <th>TX</th>\n",
              "      <td>18</td>\n",
              "      <td>72</td>\n",
              "      <td>54</td>\n",
              "      <td>0.250000</td>\n",
              "    </tr>\n",
              "    <tr>\n",
              "      <th>MD</th>\n",
              "      <td>17</td>\n",
              "      <td>70</td>\n",
              "      <td>53</td>\n",
              "      <td>0.242857</td>\n",
              "    </tr>\n",
              "    <tr>\n",
              "      <th>SC</th>\n",
              "      <td>14</td>\n",
              "      <td>60</td>\n",
              "      <td>46</td>\n",
              "      <td>0.233333</td>\n",
              "    </tr>\n",
              "    <tr>\n",
              "      <th>MI</th>\n",
              "      <td>16</td>\n",
              "      <td>73</td>\n",
              "      <td>57</td>\n",
              "      <td>0.219178</td>\n",
              "    </tr>\n",
              "    <tr>\n",
              "      <th>MS</th>\n",
              "      <td>14</td>\n",
              "      <td>65</td>\n",
              "      <td>51</td>\n",
              "      <td>0.215385</td>\n",
              "    </tr>\n",
              "    <tr>\n",
              "      <th>NV</th>\n",
              "      <td>14</td>\n",
              "      <td>66</td>\n",
              "      <td>52</td>\n",
              "      <td>0.212121</td>\n",
              "    </tr>\n",
              "    <tr>\n",
              "      <th>WA</th>\n",
              "      <td>14</td>\n",
              "      <td>66</td>\n",
              "      <td>52</td>\n",
              "      <td>0.212121</td>\n",
              "    </tr>\n",
              "    <tr>\n",
              "      <th>ME</th>\n",
              "      <td>13</td>\n",
              "      <td>62</td>\n",
              "      <td>49</td>\n",
              "      <td>0.209677</td>\n",
              "    </tr>\n",
              "  </tbody>\n",
              "</table>\n",
              "</div>\n",
              "    <div class=\"colab-df-buttons\">\n",
              "\n",
              "  <div class=\"colab-df-container\">\n",
              "    <button class=\"colab-df-convert\" onclick=\"convertToInteractive('df-d145e8e5-3897-47ad-b7b6-b1af0a53f7eb')\"\n",
              "            title=\"Convert this dataframe to an interactive table.\"\n",
              "            style=\"display:none;\">\n",
              "\n",
              "  <svg xmlns=\"http://www.w3.org/2000/svg\" height=\"24px\" viewBox=\"0 -960 960 960\">\n",
              "    <path d=\"M120-120v-720h720v720H120Zm60-500h600v-160H180v160Zm220 220h160v-160H400v160Zm0 220h160v-160H400v160ZM180-400h160v-160H180v160Zm440 0h160v-160H620v160ZM180-180h160v-160H180v160Zm440 0h160v-160H620v160Z\"/>\n",
              "  </svg>\n",
              "    </button>\n",
              "\n",
              "  <style>\n",
              "    .colab-df-container {\n",
              "      display:flex;\n",
              "      gap: 12px;\n",
              "    }\n",
              "\n",
              "    .colab-df-convert {\n",
              "      background-color: #E8F0FE;\n",
              "      border: none;\n",
              "      border-radius: 50%;\n",
              "      cursor: pointer;\n",
              "      display: none;\n",
              "      fill: #1967D2;\n",
              "      height: 32px;\n",
              "      padding: 0 0 0 0;\n",
              "      width: 32px;\n",
              "    }\n",
              "\n",
              "    .colab-df-convert:hover {\n",
              "      background-color: #E2EBFA;\n",
              "      box-shadow: 0px 1px 2px rgba(60, 64, 67, 0.3), 0px 1px 3px 1px rgba(60, 64, 67, 0.15);\n",
              "      fill: #174EA6;\n",
              "    }\n",
              "\n",
              "    .colab-df-buttons div {\n",
              "      margin-bottom: 4px;\n",
              "    }\n",
              "\n",
              "    [theme=dark] .colab-df-convert {\n",
              "      background-color: #3B4455;\n",
              "      fill: #D2E3FC;\n",
              "    }\n",
              "\n",
              "    [theme=dark] .colab-df-convert:hover {\n",
              "      background-color: #434B5C;\n",
              "      box-shadow: 0px 1px 3px 1px rgba(0, 0, 0, 0.15);\n",
              "      filter: drop-shadow(0px 1px 2px rgba(0, 0, 0, 0.3));\n",
              "      fill: #FFFFFF;\n",
              "    }\n",
              "  </style>\n",
              "\n",
              "    <script>\n",
              "      const buttonEl =\n",
              "        document.querySelector('#df-d145e8e5-3897-47ad-b7b6-b1af0a53f7eb button.colab-df-convert');\n",
              "      buttonEl.style.display =\n",
              "        google.colab.kernel.accessAllowed ? 'block' : 'none';\n",
              "\n",
              "      async function convertToInteractive(key) {\n",
              "        const element = document.querySelector('#df-d145e8e5-3897-47ad-b7b6-b1af0a53f7eb');\n",
              "        const dataTable =\n",
              "          await google.colab.kernel.invokeFunction('convertToInteractive',\n",
              "                                                    [key], {});\n",
              "        if (!dataTable) return;\n",
              "\n",
              "        const docLinkHtml = 'Like what you see? Visit the ' +\n",
              "          '<a target=\"_blank\" href=https://colab.research.google.com/notebooks/data_table.ipynb>data table notebook</a>'\n",
              "          + ' to learn more about interactive tables.';\n",
              "        element.innerHTML = '';\n",
              "        dataTable['output_type'] = 'display_data';\n",
              "        await google.colab.output.renderOutput(dataTable, element);\n",
              "        const docLink = document.createElement('div');\n",
              "        docLink.innerHTML = docLinkHtml;\n",
              "        element.appendChild(docLink);\n",
              "      }\n",
              "    </script>\n",
              "  </div>\n",
              "\n",
              "\n",
              "<div id=\"df-23f8635e-1ba2-461b-866d-ae8767a6d720\">\n",
              "  <button class=\"colab-df-quickchart\" onclick=\"quickchart('df-23f8635e-1ba2-461b-866d-ae8767a6d720')\"\n",
              "            title=\"Suggest charts.\"\n",
              "            style=\"display:none;\">\n",
              "\n",
              "<svg xmlns=\"http://www.w3.org/2000/svg\" height=\"24px\"viewBox=\"0 0 24 24\"\n",
              "     width=\"24px\">\n",
              "    <g>\n",
              "        <path d=\"M19 3H5c-1.1 0-2 .9-2 2v14c0 1.1.9 2 2 2h14c1.1 0 2-.9 2-2V5c0-1.1-.9-2-2-2zM9 17H7v-7h2v7zm4 0h-2V7h2v10zm4 0h-2v-4h2v4z\"/>\n",
              "    </g>\n",
              "</svg>\n",
              "  </button>\n",
              "\n",
              "<style>\n",
              "  .colab-df-quickchart {\n",
              "    background-color: #E8F0FE;\n",
              "    border: none;\n",
              "    border-radius: 50%;\n",
              "    cursor: pointer;\n",
              "    display: none;\n",
              "    fill: #1967D2;\n",
              "    height: 32px;\n",
              "    padding: 0 0 0 0;\n",
              "    width: 32px;\n",
              "  }\n",
              "\n",
              "  .colab-df-quickchart:hover {\n",
              "    background-color: #E2EBFA;\n",
              "    box-shadow: 0px 1px 2px rgba(60, 64, 67, 0.3), 0px 1px 3px 1px rgba(60, 64, 67, 0.15);\n",
              "    fill: #174EA6;\n",
              "  }\n",
              "\n",
              "  [theme=dark] .colab-df-quickchart {\n",
              "    background-color: #3B4455;\n",
              "    fill: #D2E3FC;\n",
              "  }\n",
              "\n",
              "  [theme=dark] .colab-df-quickchart:hover {\n",
              "    background-color: #434B5C;\n",
              "    box-shadow: 0px 1px 3px 1px rgba(0, 0, 0, 0.15);\n",
              "    filter: drop-shadow(0px 1px 2px rgba(0, 0, 0, 0.3));\n",
              "    fill: #FFFFFF;\n",
              "  }\n",
              "</style>\n",
              "\n",
              "  <script>\n",
              "    async function quickchart(key) {\n",
              "      const charts = await google.colab.kernel.invokeFunction(\n",
              "          'suggestCharts', [key], {});\n",
              "    }\n",
              "    (() => {\n",
              "      let quickchartButtonEl =\n",
              "        document.querySelector('#df-23f8635e-1ba2-461b-866d-ae8767a6d720 button');\n",
              "      quickchartButtonEl.style.display =\n",
              "        google.colab.kernel.accessAllowed ? 'block' : 'none';\n",
              "    })();\n",
              "  </script>\n",
              "</div>\n",
              "    </div>\n",
              "  </div>\n"
            ]
          },
          "metadata": {},
          "execution_count": 119
        }
      ]
    },
    {
      "cell_type": "code",
      "source": [
        "state_df"
      ],
      "metadata": {
        "colab": {
          "base_uri": "https://localhost:8080/",
          "height": 1000
        },
        "id": "OGpBYrM1P3n5",
        "outputId": "44403976-dca1-4138-d0f4-a558d811dc25"
      },
      "execution_count": 120,
      "outputs": [
        {
          "output_type": "execute_result",
          "data": {
            "text/plain": [
              "       churn  total_customers  no_churn  churn_percentage\n",
              "state                                                    \n",
              "AK         3               52        49          0.057692\n",
              "AL         8               80        72          0.100000\n",
              "AR        11               55        44          0.200000\n",
              "AZ         4               64        60          0.062500\n",
              "CA         9               34        25          0.264706\n",
              "CO         9               66        57          0.136364\n",
              "CT        12               74        62          0.162162\n",
              "DC         5               54        49          0.092593\n",
              "DE         9               61        52          0.147541\n",
              "FL         8               63        55          0.126984\n",
              "GA         8               54        46          0.148148\n",
              "HI         3               53        50          0.056604\n",
              "IA         3               44        41          0.068182\n",
              "ID         9               73        64          0.123288\n",
              "IL         5               58        53          0.086207\n",
              "IN         9               71        62          0.126761\n",
              "KS        13               70        57          0.185714\n",
              "KY         8               59        51          0.135593\n",
              "LA         4               51        47          0.078431\n",
              "MA        11               65        54          0.169231\n",
              "MD        17               70        53          0.242857\n",
              "ME        13               62        49          0.209677\n",
              "MI        16               73        57          0.219178\n",
              "MN        15               84        69          0.178571\n",
              "MO         7               63        56          0.111111\n",
              "MS        14               65        51          0.215385\n",
              "MT        14               68        54          0.205882\n",
              "NC        11               68        57          0.161765\n",
              "ND         6               62        56          0.096774\n",
              "NE         5               61        56          0.081967\n",
              "NH         9               56        47          0.160714\n",
              "NJ        18               68        50          0.264706\n",
              "NM         6               62        56          0.096774\n",
              "NV        14               66        52          0.212121\n",
              "NY        15               83        68          0.180723\n",
              "OH        10               78        68          0.128205\n",
              "OK         9               61        52          0.147541\n",
              "OR        11               78        67          0.141026\n",
              "PA         8               45        37          0.177778\n",
              "RI         6               65        59          0.092308\n",
              "SC        14               60        46          0.233333\n",
              "SD         8               60        52          0.133333\n",
              "TN         5               53        48          0.094340\n",
              "TX        18               72        54          0.250000\n",
              "UT        10               72        62          0.138889\n",
              "VA         5               77        72          0.064935\n",
              "VT         8               73        65          0.109589\n",
              "WA        14               66        52          0.212121\n",
              "WI         7               78        71          0.089744\n",
              "WV        10              106        96          0.094340\n",
              "WY         9               77        68          0.116883"
            ],
            "text/html": [
              "\n",
              "  <div id=\"df-2423dcac-40fd-4b95-bb31-a47d7eda971d\" class=\"colab-df-container\">\n",
              "    <div>\n",
              "<style scoped>\n",
              "    .dataframe tbody tr th:only-of-type {\n",
              "        vertical-align: middle;\n",
              "    }\n",
              "\n",
              "    .dataframe tbody tr th {\n",
              "        vertical-align: top;\n",
              "    }\n",
              "\n",
              "    .dataframe thead th {\n",
              "        text-align: right;\n",
              "    }\n",
              "</style>\n",
              "<table border=\"1\" class=\"dataframe\">\n",
              "  <thead>\n",
              "    <tr style=\"text-align: right;\">\n",
              "      <th></th>\n",
              "      <th>churn</th>\n",
              "      <th>total_customers</th>\n",
              "      <th>no_churn</th>\n",
              "      <th>churn_percentage</th>\n",
              "    </tr>\n",
              "    <tr>\n",
              "      <th>state</th>\n",
              "      <th></th>\n",
              "      <th></th>\n",
              "      <th></th>\n",
              "      <th></th>\n",
              "    </tr>\n",
              "  </thead>\n",
              "  <tbody>\n",
              "    <tr>\n",
              "      <th>AK</th>\n",
              "      <td>3</td>\n",
              "      <td>52</td>\n",
              "      <td>49</td>\n",
              "      <td>0.057692</td>\n",
              "    </tr>\n",
              "    <tr>\n",
              "      <th>AL</th>\n",
              "      <td>8</td>\n",
              "      <td>80</td>\n",
              "      <td>72</td>\n",
              "      <td>0.100000</td>\n",
              "    </tr>\n",
              "    <tr>\n",
              "      <th>AR</th>\n",
              "      <td>11</td>\n",
              "      <td>55</td>\n",
              "      <td>44</td>\n",
              "      <td>0.200000</td>\n",
              "    </tr>\n",
              "    <tr>\n",
              "      <th>AZ</th>\n",
              "      <td>4</td>\n",
              "      <td>64</td>\n",
              "      <td>60</td>\n",
              "      <td>0.062500</td>\n",
              "    </tr>\n",
              "    <tr>\n",
              "      <th>CA</th>\n",
              "      <td>9</td>\n",
              "      <td>34</td>\n",
              "      <td>25</td>\n",
              "      <td>0.264706</td>\n",
              "    </tr>\n",
              "    <tr>\n",
              "      <th>CO</th>\n",
              "      <td>9</td>\n",
              "      <td>66</td>\n",
              "      <td>57</td>\n",
              "      <td>0.136364</td>\n",
              "    </tr>\n",
              "    <tr>\n",
              "      <th>CT</th>\n",
              "      <td>12</td>\n",
              "      <td>74</td>\n",
              "      <td>62</td>\n",
              "      <td>0.162162</td>\n",
              "    </tr>\n",
              "    <tr>\n",
              "      <th>DC</th>\n",
              "      <td>5</td>\n",
              "      <td>54</td>\n",
              "      <td>49</td>\n",
              "      <td>0.092593</td>\n",
              "    </tr>\n",
              "    <tr>\n",
              "      <th>DE</th>\n",
              "      <td>9</td>\n",
              "      <td>61</td>\n",
              "      <td>52</td>\n",
              "      <td>0.147541</td>\n",
              "    </tr>\n",
              "    <tr>\n",
              "      <th>FL</th>\n",
              "      <td>8</td>\n",
              "      <td>63</td>\n",
              "      <td>55</td>\n",
              "      <td>0.126984</td>\n",
              "    </tr>\n",
              "    <tr>\n",
              "      <th>GA</th>\n",
              "      <td>8</td>\n",
              "      <td>54</td>\n",
              "      <td>46</td>\n",
              "      <td>0.148148</td>\n",
              "    </tr>\n",
              "    <tr>\n",
              "      <th>HI</th>\n",
              "      <td>3</td>\n",
              "      <td>53</td>\n",
              "      <td>50</td>\n",
              "      <td>0.056604</td>\n",
              "    </tr>\n",
              "    <tr>\n",
              "      <th>IA</th>\n",
              "      <td>3</td>\n",
              "      <td>44</td>\n",
              "      <td>41</td>\n",
              "      <td>0.068182</td>\n",
              "    </tr>\n",
              "    <tr>\n",
              "      <th>ID</th>\n",
              "      <td>9</td>\n",
              "      <td>73</td>\n",
              "      <td>64</td>\n",
              "      <td>0.123288</td>\n",
              "    </tr>\n",
              "    <tr>\n",
              "      <th>IL</th>\n",
              "      <td>5</td>\n",
              "      <td>58</td>\n",
              "      <td>53</td>\n",
              "      <td>0.086207</td>\n",
              "    </tr>\n",
              "    <tr>\n",
              "      <th>IN</th>\n",
              "      <td>9</td>\n",
              "      <td>71</td>\n",
              "      <td>62</td>\n",
              "      <td>0.126761</td>\n",
              "    </tr>\n",
              "    <tr>\n",
              "      <th>KS</th>\n",
              "      <td>13</td>\n",
              "      <td>70</td>\n",
              "      <td>57</td>\n",
              "      <td>0.185714</td>\n",
              "    </tr>\n",
              "    <tr>\n",
              "      <th>KY</th>\n",
              "      <td>8</td>\n",
              "      <td>59</td>\n",
              "      <td>51</td>\n",
              "      <td>0.135593</td>\n",
              "    </tr>\n",
              "    <tr>\n",
              "      <th>LA</th>\n",
              "      <td>4</td>\n",
              "      <td>51</td>\n",
              "      <td>47</td>\n",
              "      <td>0.078431</td>\n",
              "    </tr>\n",
              "    <tr>\n",
              "      <th>MA</th>\n",
              "      <td>11</td>\n",
              "      <td>65</td>\n",
              "      <td>54</td>\n",
              "      <td>0.169231</td>\n",
              "    </tr>\n",
              "    <tr>\n",
              "      <th>MD</th>\n",
              "      <td>17</td>\n",
              "      <td>70</td>\n",
              "      <td>53</td>\n",
              "      <td>0.242857</td>\n",
              "    </tr>\n",
              "    <tr>\n",
              "      <th>ME</th>\n",
              "      <td>13</td>\n",
              "      <td>62</td>\n",
              "      <td>49</td>\n",
              "      <td>0.209677</td>\n",
              "    </tr>\n",
              "    <tr>\n",
              "      <th>MI</th>\n",
              "      <td>16</td>\n",
              "      <td>73</td>\n",
              "      <td>57</td>\n",
              "      <td>0.219178</td>\n",
              "    </tr>\n",
              "    <tr>\n",
              "      <th>MN</th>\n",
              "      <td>15</td>\n",
              "      <td>84</td>\n",
              "      <td>69</td>\n",
              "      <td>0.178571</td>\n",
              "    </tr>\n",
              "    <tr>\n",
              "      <th>MO</th>\n",
              "      <td>7</td>\n",
              "      <td>63</td>\n",
              "      <td>56</td>\n",
              "      <td>0.111111</td>\n",
              "    </tr>\n",
              "    <tr>\n",
              "      <th>MS</th>\n",
              "      <td>14</td>\n",
              "      <td>65</td>\n",
              "      <td>51</td>\n",
              "      <td>0.215385</td>\n",
              "    </tr>\n",
              "    <tr>\n",
              "      <th>MT</th>\n",
              "      <td>14</td>\n",
              "      <td>68</td>\n",
              "      <td>54</td>\n",
              "      <td>0.205882</td>\n",
              "    </tr>\n",
              "    <tr>\n",
              "      <th>NC</th>\n",
              "      <td>11</td>\n",
              "      <td>68</td>\n",
              "      <td>57</td>\n",
              "      <td>0.161765</td>\n",
              "    </tr>\n",
              "    <tr>\n",
              "      <th>ND</th>\n",
              "      <td>6</td>\n",
              "      <td>62</td>\n",
              "      <td>56</td>\n",
              "      <td>0.096774</td>\n",
              "    </tr>\n",
              "    <tr>\n",
              "      <th>NE</th>\n",
              "      <td>5</td>\n",
              "      <td>61</td>\n",
              "      <td>56</td>\n",
              "      <td>0.081967</td>\n",
              "    </tr>\n",
              "    <tr>\n",
              "      <th>NH</th>\n",
              "      <td>9</td>\n",
              "      <td>56</td>\n",
              "      <td>47</td>\n",
              "      <td>0.160714</td>\n",
              "    </tr>\n",
              "    <tr>\n",
              "      <th>NJ</th>\n",
              "      <td>18</td>\n",
              "      <td>68</td>\n",
              "      <td>50</td>\n",
              "      <td>0.264706</td>\n",
              "    </tr>\n",
              "    <tr>\n",
              "      <th>NM</th>\n",
              "      <td>6</td>\n",
              "      <td>62</td>\n",
              "      <td>56</td>\n",
              "      <td>0.096774</td>\n",
              "    </tr>\n",
              "    <tr>\n",
              "      <th>NV</th>\n",
              "      <td>14</td>\n",
              "      <td>66</td>\n",
              "      <td>52</td>\n",
              "      <td>0.212121</td>\n",
              "    </tr>\n",
              "    <tr>\n",
              "      <th>NY</th>\n",
              "      <td>15</td>\n",
              "      <td>83</td>\n",
              "      <td>68</td>\n",
              "      <td>0.180723</td>\n",
              "    </tr>\n",
              "    <tr>\n",
              "      <th>OH</th>\n",
              "      <td>10</td>\n",
              "      <td>78</td>\n",
              "      <td>68</td>\n",
              "      <td>0.128205</td>\n",
              "    </tr>\n",
              "    <tr>\n",
              "      <th>OK</th>\n",
              "      <td>9</td>\n",
              "      <td>61</td>\n",
              "      <td>52</td>\n",
              "      <td>0.147541</td>\n",
              "    </tr>\n",
              "    <tr>\n",
              "      <th>OR</th>\n",
              "      <td>11</td>\n",
              "      <td>78</td>\n",
              "      <td>67</td>\n",
              "      <td>0.141026</td>\n",
              "    </tr>\n",
              "    <tr>\n",
              "      <th>PA</th>\n",
              "      <td>8</td>\n",
              "      <td>45</td>\n",
              "      <td>37</td>\n",
              "      <td>0.177778</td>\n",
              "    </tr>\n",
              "    <tr>\n",
              "      <th>RI</th>\n",
              "      <td>6</td>\n",
              "      <td>65</td>\n",
              "      <td>59</td>\n",
              "      <td>0.092308</td>\n",
              "    </tr>\n",
              "    <tr>\n",
              "      <th>SC</th>\n",
              "      <td>14</td>\n",
              "      <td>60</td>\n",
              "      <td>46</td>\n",
              "      <td>0.233333</td>\n",
              "    </tr>\n",
              "    <tr>\n",
              "      <th>SD</th>\n",
              "      <td>8</td>\n",
              "      <td>60</td>\n",
              "      <td>52</td>\n",
              "      <td>0.133333</td>\n",
              "    </tr>\n",
              "    <tr>\n",
              "      <th>TN</th>\n",
              "      <td>5</td>\n",
              "      <td>53</td>\n",
              "      <td>48</td>\n",
              "      <td>0.094340</td>\n",
              "    </tr>\n",
              "    <tr>\n",
              "      <th>TX</th>\n",
              "      <td>18</td>\n",
              "      <td>72</td>\n",
              "      <td>54</td>\n",
              "      <td>0.250000</td>\n",
              "    </tr>\n",
              "    <tr>\n",
              "      <th>UT</th>\n",
              "      <td>10</td>\n",
              "      <td>72</td>\n",
              "      <td>62</td>\n",
              "      <td>0.138889</td>\n",
              "    </tr>\n",
              "    <tr>\n",
              "      <th>VA</th>\n",
              "      <td>5</td>\n",
              "      <td>77</td>\n",
              "      <td>72</td>\n",
              "      <td>0.064935</td>\n",
              "    </tr>\n",
              "    <tr>\n",
              "      <th>VT</th>\n",
              "      <td>8</td>\n",
              "      <td>73</td>\n",
              "      <td>65</td>\n",
              "      <td>0.109589</td>\n",
              "    </tr>\n",
              "    <tr>\n",
              "      <th>WA</th>\n",
              "      <td>14</td>\n",
              "      <td>66</td>\n",
              "      <td>52</td>\n",
              "      <td>0.212121</td>\n",
              "    </tr>\n",
              "    <tr>\n",
              "      <th>WI</th>\n",
              "      <td>7</td>\n",
              "      <td>78</td>\n",
              "      <td>71</td>\n",
              "      <td>0.089744</td>\n",
              "    </tr>\n",
              "    <tr>\n",
              "      <th>WV</th>\n",
              "      <td>10</td>\n",
              "      <td>106</td>\n",
              "      <td>96</td>\n",
              "      <td>0.094340</td>\n",
              "    </tr>\n",
              "    <tr>\n",
              "      <th>WY</th>\n",
              "      <td>9</td>\n",
              "      <td>77</td>\n",
              "      <td>68</td>\n",
              "      <td>0.116883</td>\n",
              "    </tr>\n",
              "  </tbody>\n",
              "</table>\n",
              "</div>\n",
              "    <div class=\"colab-df-buttons\">\n",
              "\n",
              "  <div class=\"colab-df-container\">\n",
              "    <button class=\"colab-df-convert\" onclick=\"convertToInteractive('df-2423dcac-40fd-4b95-bb31-a47d7eda971d')\"\n",
              "            title=\"Convert this dataframe to an interactive table.\"\n",
              "            style=\"display:none;\">\n",
              "\n",
              "  <svg xmlns=\"http://www.w3.org/2000/svg\" height=\"24px\" viewBox=\"0 -960 960 960\">\n",
              "    <path d=\"M120-120v-720h720v720H120Zm60-500h600v-160H180v160Zm220 220h160v-160H400v160Zm0 220h160v-160H400v160ZM180-400h160v-160H180v160Zm440 0h160v-160H620v160ZM180-180h160v-160H180v160Zm440 0h160v-160H620v160Z\"/>\n",
              "  </svg>\n",
              "    </button>\n",
              "\n",
              "  <style>\n",
              "    .colab-df-container {\n",
              "      display:flex;\n",
              "      gap: 12px;\n",
              "    }\n",
              "\n",
              "    .colab-df-convert {\n",
              "      background-color: #E8F0FE;\n",
              "      border: none;\n",
              "      border-radius: 50%;\n",
              "      cursor: pointer;\n",
              "      display: none;\n",
              "      fill: #1967D2;\n",
              "      height: 32px;\n",
              "      padding: 0 0 0 0;\n",
              "      width: 32px;\n",
              "    }\n",
              "\n",
              "    .colab-df-convert:hover {\n",
              "      background-color: #E2EBFA;\n",
              "      box-shadow: 0px 1px 2px rgba(60, 64, 67, 0.3), 0px 1px 3px 1px rgba(60, 64, 67, 0.15);\n",
              "      fill: #174EA6;\n",
              "    }\n",
              "\n",
              "    .colab-df-buttons div {\n",
              "      margin-bottom: 4px;\n",
              "    }\n",
              "\n",
              "    [theme=dark] .colab-df-convert {\n",
              "      background-color: #3B4455;\n",
              "      fill: #D2E3FC;\n",
              "    }\n",
              "\n",
              "    [theme=dark] .colab-df-convert:hover {\n",
              "      background-color: #434B5C;\n",
              "      box-shadow: 0px 1px 3px 1px rgba(0, 0, 0, 0.15);\n",
              "      filter: drop-shadow(0px 1px 2px rgba(0, 0, 0, 0.3));\n",
              "      fill: #FFFFFF;\n",
              "    }\n",
              "  </style>\n",
              "\n",
              "    <script>\n",
              "      const buttonEl =\n",
              "        document.querySelector('#df-2423dcac-40fd-4b95-bb31-a47d7eda971d button.colab-df-convert');\n",
              "      buttonEl.style.display =\n",
              "        google.colab.kernel.accessAllowed ? 'block' : 'none';\n",
              "\n",
              "      async function convertToInteractive(key) {\n",
              "        const element = document.querySelector('#df-2423dcac-40fd-4b95-bb31-a47d7eda971d');\n",
              "        const dataTable =\n",
              "          await google.colab.kernel.invokeFunction('convertToInteractive',\n",
              "                                                    [key], {});\n",
              "        if (!dataTable) return;\n",
              "\n",
              "        const docLinkHtml = 'Like what you see? Visit the ' +\n",
              "          '<a target=\"_blank\" href=https://colab.research.google.com/notebooks/data_table.ipynb>data table notebook</a>'\n",
              "          + ' to learn more about interactive tables.';\n",
              "        element.innerHTML = '';\n",
              "        dataTable['output_type'] = 'display_data';\n",
              "        await google.colab.output.renderOutput(dataTable, element);\n",
              "        const docLink = document.createElement('div');\n",
              "        docLink.innerHTML = docLinkHtml;\n",
              "        element.appendChild(docLink);\n",
              "      }\n",
              "    </script>\n",
              "  </div>\n",
              "\n",
              "\n",
              "<div id=\"df-f1e0bbca-de66-4ecd-96a6-8791d1890ab5\">\n",
              "  <button class=\"colab-df-quickchart\" onclick=\"quickchart('df-f1e0bbca-de66-4ecd-96a6-8791d1890ab5')\"\n",
              "            title=\"Suggest charts.\"\n",
              "            style=\"display:none;\">\n",
              "\n",
              "<svg xmlns=\"http://www.w3.org/2000/svg\" height=\"24px\"viewBox=\"0 0 24 24\"\n",
              "     width=\"24px\">\n",
              "    <g>\n",
              "        <path d=\"M19 3H5c-1.1 0-2 .9-2 2v14c0 1.1.9 2 2 2h14c1.1 0 2-.9 2-2V5c0-1.1-.9-2-2-2zM9 17H7v-7h2v7zm4 0h-2V7h2v10zm4 0h-2v-4h2v4z\"/>\n",
              "    </g>\n",
              "</svg>\n",
              "  </button>\n",
              "\n",
              "<style>\n",
              "  .colab-df-quickchart {\n",
              "    background-color: #E8F0FE;\n",
              "    border: none;\n",
              "    border-radius: 50%;\n",
              "    cursor: pointer;\n",
              "    display: none;\n",
              "    fill: #1967D2;\n",
              "    height: 32px;\n",
              "    padding: 0 0 0 0;\n",
              "    width: 32px;\n",
              "  }\n",
              "\n",
              "  .colab-df-quickchart:hover {\n",
              "    background-color: #E2EBFA;\n",
              "    box-shadow: 0px 1px 2px rgba(60, 64, 67, 0.3), 0px 1px 3px 1px rgba(60, 64, 67, 0.15);\n",
              "    fill: #174EA6;\n",
              "  }\n",
              "\n",
              "  [theme=dark] .colab-df-quickchart {\n",
              "    background-color: #3B4455;\n",
              "    fill: #D2E3FC;\n",
              "  }\n",
              "\n",
              "  [theme=dark] .colab-df-quickchart:hover {\n",
              "    background-color: #434B5C;\n",
              "    box-shadow: 0px 1px 3px 1px rgba(0, 0, 0, 0.15);\n",
              "    filter: drop-shadow(0px 1px 2px rgba(0, 0, 0, 0.3));\n",
              "    fill: #FFFFFF;\n",
              "  }\n",
              "</style>\n",
              "\n",
              "  <script>\n",
              "    async function quickchart(key) {\n",
              "      const charts = await google.colab.kernel.invokeFunction(\n",
              "          'suggestCharts', [key], {});\n",
              "    }\n",
              "    (() => {\n",
              "      let quickchartButtonEl =\n",
              "        document.querySelector('#df-f1e0bbca-de66-4ecd-96a6-8791d1890ab5 button');\n",
              "      quickchartButtonEl.style.display =\n",
              "        google.colab.kernel.accessAllowed ? 'block' : 'none';\n",
              "    })();\n",
              "  </script>\n",
              "</div>\n",
              "    </div>\n",
              "  </div>\n"
            ]
          },
          "metadata": {},
          "execution_count": 120
        }
      ]
    },
    {
      "cell_type": "code",
      "source": [
        "plt.subplots(figsize=(15,6))\n",
        "sns.barplot(x=state_df.index,\n",
        "            y=state_df.sort_values('churn_percentage')['churn_percentage']);\n",
        "plt.title('Churn Percentage Per State');"
      ],
      "metadata": {
        "colab": {
          "base_uri": "https://localhost:8080/",
          "height": 507
        },
        "id": "BV1R3ZeBIixL",
        "outputId": "b2dbdb8a-624c-4dc0-a0b1-db1bca9f905b"
      },
      "execution_count": 121,
      "outputs": [
        {
          "output_type": "display_data",
          "data": {
            "text/plain": [
              "<Figure size 1500x600 with 1 Axes>"
            ],
            "image/png": "[encoded data removed]"
          },
          "metadata": {}
        }
      ]
    },
    {
      "cell_type": "code",
      "source": [
        "plt.subplots(figsize=(15,6))\n",
        "sns.barplot(x=state_df.index,\n",
        "            y=state_df.sort_values('churn')['churn']);\n",
        "plt.title('Churn Count Per State');"
      ],
      "metadata": {
        "colab": {
          "base_uri": "https://localhost:8080/",
          "height": 507
        },
        "id": "ZYX36WVWQ4Dw",
        "outputId": "91fb82ee-adc6-484e-9a20-c9210ae6d9d2"
      },
      "execution_count": 122,
      "outputs": [
        {
          "output_type": "display_data",
          "data": {
            "text/plain": [
              "<Figure size 1500x600 with 1 Axes>"
            ],
            "image/png": "[encoded data removed]"
          },
          "metadata": {}
        }
      ]
    },
    {
      "cell_type": "markdown",
      "source": [
        "We see clearly that most of the states that had the most customers to churn also had the highest churn percentages. The notable exceptions are Minnesota, New York and Montana, who despite have a high amount of customers that churned did not have the highest churn percentages. Whereas California, Washington and Maine had high churn rates, but not many customers churning.\n",
        "\n",
        "Although there is a relationship, it's hard to imagine ```'state'``` will be used as a predictor. There's not *so* much variance amongst churn and churn percentage, and one-hot encoding 50 states serves to cloud to features."
      ],
      "metadata": {
        "id": "x-nwz1hHK23K"
      }
    },
    {
      "cell_type": "markdown",
      "source": [
        "### **E. Type of plan and churn**"
      ],
      "metadata": {
        "id": "6GmhtZ1-Rbw3"
      }
    },
    {
      "cell_type": "markdown",
      "source": [
        "The last thing to examine is how having either an international or voicemail plan affects churn. To begin we'll look at some plots."
      ],
      "metadata": {
        "id": "vjmC88BgRof3"
      }
    },
    {
      "cell_type": "code",
      "source": [
        "a = df[['international plan', 'churn']].sort_values('churn').value_counts()\n",
        "\n",
        "x = np.arange(2)\n",
        "no_churn = [a['no'][False], a['yes'][False]]\n",
        "yes_churn = [a['no'][True], a['yes'][True]]\n",
        "width = 0.4\n",
        "\n",
        "# plot data in grouped manner of bar type\n",
        "plt.bar(x-0.4, no_churn, width)\n",
        "plt.bar(x, yes_churn, width, color='orange')\n",
        "plt.xticks(x-0.2, ['No International Plan', 'Yes International'])\n",
        "plt.legend(['No Churn', 'Churn']);\n"
      ],
      "metadata": {
        "colab": {
          "base_uri": "https://localhost:8080/",
          "height": 430
        },
        "id": "OfWr76v1HeTe",
        "outputId": "55327fab-d490-4f03-a6f2-64dbeacbbf5c"
      },
      "execution_count": 123,
      "outputs": [
        {
          "output_type": "display_data",
          "data": {
            "text/plain": [
              "<Figure size 640x480 with 1 Axes>"
            ],
            "image/png": "[encoded data removed]"
          },
          "metadata": {}
        }
      ]
    },
    {
      "cell_type": "markdown",
      "source": [
        "We see obviously that instances of churn amongst those with an international plan are close in number to those that don't churn, in stark contrast to those without an international plan that a strong majority do not churn. We'll look also at the effects of having a voice mail plan."
      ],
      "metadata": {
        "id": "x_s9mU9Bal5W"
      }
    },
    {
      "cell_type": "code",
      "source": [
        "b = df[['voice mail plan', 'churn']].sort_values('churn').value_counts()\n",
        "\n",
        "x = np.arange(2)\n",
        "no_churn = [a['no'][False], a['yes'][False]]\n",
        "yes_churn = [a['no'][True], a['yes'][True]]\n",
        "width = 0.4\n",
        "\n",
        "# plot data in grouped manner of bar type\n",
        "plt.bar(x-0.4, no_churn, width)\n",
        "plt.bar(x, yes_churn, width, color='orange')\n",
        "plt.xticks(x-0.2, ['No Voicemail', 'Yes Voicemail'])\n",
        "plt.legend(['No Churn', 'Churn']);"
      ],
      "metadata": {
        "colab": {
          "base_uri": "https://localhost:8080/",
          "height": 430
        },
        "id": "tDW3n6WUR7jc",
        "outputId": "491d91d1-86d5-4572-a5c4-2367be8ce22f"
      },
      "execution_count": 124,
      "outputs": [
        {
          "output_type": "display_data",
          "data": {
            "text/plain": [
              "<Figure size 640x480 with 1 Axes>"
            ],
            "image/png": "[encoded data removed]"
          },
          "metadata": {}
        }
      ]
    },
    {
      "cell_type": "markdown",
      "source": [
        "#III. Data Preparation"
      ],
      "metadata": {
        "id": "YJexubZXMW6M"
      }
    },
    {
      "cell_type": "markdown",
      "source": [
        "##1. Discarding unnecessary features"
      ],
      "metadata": {
        "id": "1Lj75iEUMaLd"
      }
    },
    {
      "cell_type": "markdown",
      "source": [
        "To begin the data preparation process we'll beging discarding features that won't be particularly valuable for modeling."
      ],
      "metadata": {
        "id": "nxQ2-32vNaX_"
      }
    },
    {
      "cell_type": "code",
      "source": [
        "df.head()"
      ],
      "metadata": {
        "id": "7ghTjgXlNlp_",
        "outputId": "22283ea3-0730-441b-c4f1-fe41ade42da7",
        "colab": {
          "base_uri": "https://localhost:8080/",
          "height": 377
        }
      },
      "execution_count": 125,
      "outputs": [
        {
          "output_type": "execute_result",
          "data": {
            "text/plain": [
              "  state  account length  area code phone number international plan  \\\n",
              "0    KS             128        415     382-4657                 no   \n",
              "1    OH             107        415     371-7191                 no   \n",
              "2    NJ             137        415     358-1921                 no   \n",
              "3    OH              84        408     375-9999                yes   \n",
              "4    OK              75        415     330-6626                yes   \n",
              "\n",
              "  voice mail plan  number vmail messages  total day minutes  total day calls  \\\n",
              "0             yes                     25              265.1              110   \n",
              "1             yes                     26              161.6              123   \n",
              "2              no                      0              243.4              114   \n",
              "3              no                      0              299.4               71   \n",
              "4              no                      0              166.7              113   \n",
              "\n",
              "   total day charge  ...  total eve calls  total eve charge  \\\n",
              "0             45.07  ...               99             16.78   \n",
              "1             27.47  ...              103             16.62   \n",
              "2             41.38  ...              110             10.30   \n",
              "3             50.90  ...               88              5.26   \n",
              "4             28.34  ...              122             12.61   \n",
              "\n",
              "   total night minutes  total night calls  total night charge  \\\n",
              "0                244.7                 91               11.01   \n",
              "1                254.4                103               11.45   \n",
              "2                162.6                104                7.32   \n",
              "3                196.9                 89                8.86   \n",
              "4                186.9                121                8.41   \n",
              "\n",
              "   total intl minutes  total intl calls  total intl charge  \\\n",
              "0                10.0                 3               2.70   \n",
              "1                13.7                 3               3.70   \n",
              "2                12.2                 5               3.29   \n",
              "3                 6.6                 7               1.78   \n",
              "4                10.1                 3               2.73   \n",
              "\n",
              "   customer service calls  churn  \n",
              "0                       1  False  \n",
              "1                       1  False  \n",
              "2                       0  False  \n",
              "3                       2  False  \n",
              "4                       3  False  \n",
              "\n",
              "[5 rows x 21 columns]"
            ],
            "text/html": [
              "\n",
              "  <div id=\"df-60292209-e331-4b0d-b1fb-afab9bd9e009\" class=\"colab-df-container\">\n",
              "    <div>\n",
              "<style scoped>\n",
              "    .dataframe tbody tr th:only-of-type {\n",
              "        vertical-align: middle;\n",
              "    }\n",
              "\n",
              "    .dataframe tbody tr th {\n",
              "        vertical-align: top;\n",
              "    }\n",
              "\n",
              "    .dataframe thead th {\n",
              "        text-align: right;\n",
              "    }\n",
              "</style>\n",
              "<table border=\"1\" class=\"dataframe\">\n",
              "  <thead>\n",
              "    <tr style=\"text-align: right;\">\n",
              "      <th></th>\n",
              "      <th>state</th>\n",
              "      <th>account length</th>\n",
              "      <th>area code</th>\n",
              "      <th>phone number</th>\n",
              "      <th>international plan</th>\n",
              "      <th>voice mail plan</th>\n",
              "      <th>number vmail messages</th>\n",
              "      <th>total day minutes</th>\n",
              "      <th>total day calls</th>\n",
              "      <th>total day charge</th>\n",
              "      <th>...</th>\n",
              "      <th>total eve calls</th>\n",
              "      <th>total eve charge</th>\n",
              "      <th>total night minutes</th>\n",
              "      <th>total night calls</th>\n",
              "      <th>total night charge</th>\n",
              "      <th>total intl minutes</th>\n",
              "      <th>total intl calls</th>\n",
              "      <th>total intl charge</th>\n",
              "      <th>customer service calls</th>\n",
              "      <th>churn</th>\n",
              "    </tr>\n",
              "  </thead>\n",
              "  <tbody>\n",
              "    <tr>\n",
              "      <th>0</th>\n",
              "      <td>KS</td>\n",
              "      <td>128</td>\n",
              "      <td>415</td>\n",
              "      <td>382-4657</td>\n",
              "      <td>no</td>\n",
              "      <td>yes</td>\n",
              "      <td>25</td>\n",
              "      <td>265.1</td>\n",
              "      <td>110</td>\n",
              "      <td>45.07</td>\n",
              "      <td>...</td>\n",
              "      <td>99</td>\n",
              "      <td>16.78</td>\n",
              "      <td>244.7</td>\n",
              "      <td>91</td>\n",
              "      <td>11.01</td>\n",
              "      <td>10.0</td>\n",
              "      <td>3</td>\n",
              "      <td>2.70</td>\n",
              "      <td>1</td>\n",
              "      <td>False</td>\n",
              "    </tr>\n",
              "    <tr>\n",
              "      <th>1</th>\n",
              "      <td>OH</td>\n",
              "      <td>107</td>\n",
              "      <td>415</td>\n",
              "      <td>371-7191</td>\n",
              "      <td>no</td>\n",
              "      <td>yes</td>\n",
              "      <td>26</td>\n",
              "      <td>161.6</td>\n",
              "      <td>123</td>\n",
              "      <td>27.47</td>\n",
              "      <td>...</td>\n",
              "      <td>103</td>\n",
              "      <td>16.62</td>\n",
              "      <td>254.4</td>\n",
              "      <td>103</td>\n",
              "      <td>11.45</td>\n",
              "      <td>13.7</td>\n",
              "      <td>3</td>\n",
              "      <td>3.70</td>\n",
              "      <td>1</td>\n",
              "      <td>False</td>\n",
              "    </tr>\n",
              "    <tr>\n",
              "      <th>2</th>\n",
              "      <td>NJ</td>\n",
              "      <td>137</td>\n",
              "      <td>415</td>\n",
              "      <td>358-1921</td>\n",
              "      <td>no</td>\n",
              "      <td>no</td>\n",
              "      <td>0</td>\n",
              "      <td>243.4</td>\n",
              "      <td>114</td>\n",
              "      <td>41.38</td>\n",
              "      <td>...</td>\n",
              "      <td>110</td>\n",
              "      <td>10.30</td>\n",
              "      <td>162.6</td>\n",
              "      <td>104</td>\n",
              "      <td>7.32</td>\n",
              "      <td>12.2</td>\n",
              "      <td>5</td>\n",
              "      <td>3.29</td>\n",
              "      <td>0</td>\n",
              "      <td>False</td>\n",
              "    </tr>\n",
              "    <tr>\n",
              "      <th>3</th>\n",
              "      <td>OH</td>\n",
              "      <td>84</td>\n",
              "      <td>408</td>\n",
              "      <td>375-9999</td>\n",
              "      <td>yes</td>\n",
              "      <td>no</td>\n",
              "      <td>0</td>\n",
              "      <td>299.4</td>\n",
              "      <td>71</td>\n",
              "      <td>50.90</td>\n",
              "      <td>...</td>\n",
              "      <td>88</td>\n",
              "      <td>5.26</td>\n",
              "      <td>196.9</td>\n",
              "      <td>89</td>\n",
              "      <td>8.86</td>\n",
              "      <td>6.6</td>\n",
              "      <td>7</td>\n",
              "      <td>1.78</td>\n",
              "      <td>2</td>\n",
              "      <td>False</td>\n",
              "    </tr>\n",
              "    <tr>\n",
              "      <th>4</th>\n",
              "      <td>OK</td>\n",
              "      <td>75</td>\n",
              "      <td>415</td>\n",
              "      <td>330-6626</td>\n",
              "      <td>yes</td>\n",
              "      <td>no</td>\n",
              "      <td>0</td>\n",
              "      <td>166.7</td>\n",
              "      <td>113</td>\n",
              "      <td>28.34</td>\n",
              "      <td>...</td>\n",
              "      <td>122</td>\n",
              "      <td>12.61</td>\n",
              "      <td>186.9</td>\n",
              "      <td>121</td>\n",
              "      <td>8.41</td>\n",
              "      <td>10.1</td>\n",
              "      <td>3</td>\n",
              "      <td>2.73</td>\n",
              "      <td>3</td>\n",
              "      <td>False</td>\n",
              "    </tr>\n",
              "  </tbody>\n",
              "</table>\n",
              "<p>5 rows × 21 columns</p>\n",
              "</div>\n",
              "    <div class=\"colab-df-buttons\">\n",
              "\n",
              "  <div class=\"colab-df-container\">\n",
              "    <button class=\"colab-df-convert\" onclick=\"convertToInteractive('df-60292209-e331-4b0d-b1fb-afab9bd9e009')\"\n",
              "            title=\"Convert this dataframe to an interactive table.\"\n",
              "            style=\"display:none;\">\n",
              "\n",
              "  <svg xmlns=\"http://www.w3.org/2000/svg\" height=\"24px\" viewBox=\"0 -960 960 960\">\n",
              "    <path d=\"M120-120v-720h720v720H120Zm60-500h600v-160H180v160Zm220 220h160v-160H400v160Zm0 220h160v-160H400v160ZM180-400h160v-160H180v160Zm440 0h160v-160H620v160ZM180-180h160v-160H180v160Zm440 0h160v-160H620v160Z\"/>\n",
              "  </svg>\n",
              "    </button>\n",
              "\n",
              "  <style>\n",
              "    .colab-df-container {\n",
              "      display:flex;\n",
              "      gap: 12px;\n",
              "    }\n",
              "\n",
              "    .colab-df-convert {\n",
              "      background-color: #E8F0FE;\n",
              "      border: none;\n",
              "      border-radius: 50%;\n",
              "      cursor: pointer;\n",
              "      display: none;\n",
              "      fill: #1967D2;\n",
              "      height: 32px;\n",
              "      padding: 0 0 0 0;\n",
              "      width: 32px;\n",
              "    }\n",
              "\n",
              "    .colab-df-convert:hover {\n",
              "      background-color: #E2EBFA;\n",
              "      box-shadow: 0px 1px 2px rgba(60, 64, 67, 0.3), 0px 1px 3px 1px rgba(60, 64, 67, 0.15);\n",
              "      fill: #174EA6;\n",
              "    }\n",
              "\n",
              "    .colab-df-buttons div {\n",
              "      margin-bottom: 4px;\n",
              "    }\n",
              "\n",
              "    [theme=dark] .colab-df-convert {\n",
              "      background-color: #3B4455;\n",
              "      fill: #D2E3FC;\n",
              "    }\n",
              "\n",
              "    [theme=dark] .colab-df-convert:hover {\n",
              "      background-color: #434B5C;\n",
              "      box-shadow: 0px 1px 3px 1px rgba(0, 0, 0, 0.15);\n",
              "      filter: drop-shadow(0px 1px 2px rgba(0, 0, 0, 0.3));\n",
              "      fill: #FFFFFF;\n",
              "    }\n",
              "  </style>\n",
              "\n",
              "    <script>\n",
              "      const buttonEl =\n",
              "        document.querySelector('#df-60292209-e331-4b0d-b1fb-afab9bd9e009 button.colab-df-convert');\n",
              "      buttonEl.style.display =\n",
              "        google.colab.kernel.accessAllowed ? 'block' : 'none';\n",
              "\n",
              "      async function convertToInteractive(key) {\n",
              "        const element = document.querySelector('#df-60292209-e331-4b0d-b1fb-afab9bd9e009');\n",
              "        const dataTable =\n",
              "          await google.colab.kernel.invokeFunction('convertToInteractive',\n",
              "                                                    [key], {});\n",
              "        if (!dataTable) return;\n",
              "\n",
              "        const docLinkHtml = 'Like what you see? Visit the ' +\n",
              "          '<a target=\"_blank\" href=https://colab.research.google.com/notebooks/data_table.ipynb>data table notebook</a>'\n",
              "          + ' to learn more about interactive tables.';\n",
              "        element.innerHTML = '';\n",
              "        dataTable['output_type'] = 'display_data';\n",
              "        await google.colab.output.renderOutput(dataTable, element);\n",
              "        const docLink = document.createElement('div');\n",
              "        docLink.innerHTML = docLinkHtml;\n",
              "        element.appendChild(docLink);\n",
              "      }\n",
              "    </script>\n",
              "  </div>\n",
              "\n",
              "\n",
              "<div id=\"df-4ad0f2af-9d18-4139-aea3-26b86bd6c908\">\n",
              "  <button class=\"colab-df-quickchart\" onclick=\"quickchart('df-4ad0f2af-9d18-4139-aea3-26b86bd6c908')\"\n",
              "            title=\"Suggest charts.\"\n",
              "            style=\"display:none;\">\n",
              "\n",
              "<svg xmlns=\"http://www.w3.org/2000/svg\" height=\"24px\"viewBox=\"0 0 24 24\"\n",
              "     width=\"24px\">\n",
              "    <g>\n",
              "        <path d=\"M19 3H5c-1.1 0-2 .9-2 2v14c0 1.1.9 2 2 2h14c1.1 0 2-.9 2-2V5c0-1.1-.9-2-2-2zM9 17H7v-7h2v7zm4 0h-2V7h2v10zm4 0h-2v-4h2v4z\"/>\n",
              "    </g>\n",
              "</svg>\n",
              "  </button>\n",
              "\n",
              "<style>\n",
              "  .colab-df-quickchart {\n",
              "    background-color: #E8F0FE;\n",
              "    border: none;\n",
              "    border-radius: 50%;\n",
              "    cursor: pointer;\n",
              "    display: none;\n",
              "    fill: #1967D2;\n",
              "    height: 32px;\n",
              "    padding: 0 0 0 0;\n",
              "    width: 32px;\n",
              "  }\n",
              "\n",
              "  .colab-df-quickchart:hover {\n",
              "    background-color: #E2EBFA;\n",
              "    box-shadow: 0px 1px 2px rgba(60, 64, 67, 0.3), 0px 1px 3px 1px rgba(60, 64, 67, 0.15);\n",
              "    fill: #174EA6;\n",
              "  }\n",
              "\n",
              "  [theme=dark] .colab-df-quickchart {\n",
              "    background-color: #3B4455;\n",
              "    fill: #D2E3FC;\n",
              "  }\n",
              "\n",
              "  [theme=dark] .colab-df-quickchart:hover {\n",
              "    background-color: #434B5C;\n",
              "    box-shadow: 0px 1px 3px 1px rgba(0, 0, 0, 0.15);\n",
              "    filter: drop-shadow(0px 1px 2px rgba(0, 0, 0, 0.3));\n",
              "    fill: #FFFFFF;\n",
              "  }\n",
              "</style>\n",
              "\n",
              "  <script>\n",
              "    async function quickchart(key) {\n",
              "      const charts = await google.colab.kernel.invokeFunction(\n",
              "          'suggestCharts', [key], {});\n",
              "    }\n",
              "    (() => {\n",
              "      let quickchartButtonEl =\n",
              "        document.querySelector('#df-4ad0f2af-9d18-4139-aea3-26b86bd6c908 button');\n",
              "      quickchartButtonEl.style.display =\n",
              "        google.colab.kernel.accessAllowed ? 'block' : 'none';\n",
              "    })();\n",
              "  </script>\n",
              "</div>\n",
              "    </div>\n",
              "  </div>\n"
            ]
          },
          "metadata": {},
          "execution_count": 125
        }
      ]
    },
    {
      "cell_type": "code",
      "source": [
        "df.columns"
      ],
      "metadata": {
        "id": "X2snA9A5PdSC",
        "outputId": "89b9c288-340d-4932-b501-e4b6841152af",
        "colab": {
          "base_uri": "https://localhost:8080/"
        }
      },
      "execution_count": 126,
      "outputs": [
        {
          "output_type": "execute_result",
          "data": {
            "text/plain": [
              "Index(['state', 'account length', 'area code', 'phone number',\n",
              "       'international plan', 'voice mail plan', 'number vmail messages',\n",
              "       'total day minutes', 'total day calls', 'total day charge',\n",
              "       'total eve minutes', 'total eve calls', 'total eve charge',\n",
              "       'total night minutes', 'total night calls', 'total night charge',\n",
              "       'total intl minutes', 'total intl calls', 'total intl charge',\n",
              "       'customer service calls', 'churn'],\n",
              "      dtype='object')"
            ]
          },
          "metadata": {},
          "execution_count": 126
        }
      ]
    },
    {
      "cell_type": "markdown",
      "source": [
        "```'Area code'``` and ```'phone number'``` will not be useful. Additionally, we're going to drop ```'account length'```.\n",
        "\n",
        "Despite the fact that we saw above that there is a relationship between state and churn, we're going to drop ```'state'``` from our predictors. The main reason is because we'd have to one-hot encode 50 states. This means we'd have 50+ features, which could potentially cloud our model.\n",
        "\n",
        "Additionally, we're going to drop ```'total day minutes'```, ```'total eve minutes'```, and ```'total night minutes'```, as these determine the charge, and we want to avoid any issues of multicolinearity."
      ],
      "metadata": {
        "id": "ygu-6MbTPknj"
      }
    },
    {
      "cell_type": "code",
      "source": [
        "drop_labels = ['account length',\n",
        "                'area code',\n",
        "                'phone number',\n",
        "                'state',\n",
        "                'total day minutes',\n",
        "                'total eve minutes',\n",
        "                'total night minutes',\n",
        "                'total intl minutes']\n",
        "df = df.drop(labels=drop_labels, axis=1)"
      ],
      "metadata": {
        "id": "KBNvg7cis2QK"
      },
      "execution_count": 127,
      "outputs": []
    },
    {
      "cell_type": "markdown",
      "source": [
        "##2. One-Hot Encoding"
      ],
      "metadata": {
        "id": "ciUtxy0st-_r"
      }
    },
    {
      "cell_type": "markdown",
      "source": [
        "Now, we'll one-hot encode our remaining categorical features using Pandas built-in feature."
      ],
      "metadata": {
        "id": "0Ade4y7MwE9n"
      }
    },
    {
      "cell_type": "code",
      "source": [
        "df = pd.get_dummies(data=df, drop_first=True)"
      ],
      "metadata": {
        "id": "-2aahxrSuOCt"
      },
      "execution_count": 128,
      "outputs": []
    },
    {
      "cell_type": "markdown",
      "source": [
        "#IV. Modeling"
      ],
      "metadata": {
        "id": "3yW8k3jcuXIe"
      }
    },
    {
      "cell_type": "markdown",
      "source": [
        "In this section, we're going to take an iterative approach to modeling, where we'll begin with a baseline and continue to more complicated models.\n",
        "\n",
        "But before we dive into the iterations, we'll outine our process. The metric that we are going to use to score the models is **recall**, which is the ratio of predicted positives to total positives. This metric is the most appropriate for our business problem. Our goal is to predict if a customer will churn so that SyriaTel can make an attempt to retain that customer. It is critical to have as many correctly identified positives (churns) as possible, with false positives (those predicted to churn that don't) not presenting as much of a problem.\n",
        "\n",
        "In terms of testing the models, we're going to break our data into 3 sets. We'll first split the data into a training set that contains 70% of the entries. The remaining data will then be split again, with 80% (of the remaining 30%) being testing data, and the remaining 20% (of the last 30%) being hold-out data. For each model we'll find the cross-validation recall score using the training data. But we're concerned that the built-in training/test methods of the cross-validation scoring will still tend overfit the data to the training set, and therefore want to test each model on a separate testing set. The final hold-out set will have never seen any model until our very last step, where we'll test our 2 best models on the hold-out data."
      ],
      "metadata": {
        "id": "J750M2yswM_1"
      }
    },
    {
      "cell_type": "markdown",
      "source": [
        "##1. Baseline logistic regression model"
      ],
      "metadata": {
        "id": "m94lixRJudCo"
      }
    },
    {
      "cell_type": "markdown",
      "source": [
        "To begin we'll build a baseline model, which is a vanilla logistic regresion model. Below we'll split our data. In order to run the logistic regression model we're also going to have to scale the data."
      ],
      "metadata": {
        "id": "_uHNAfH_y89d"
      }
    },
    {
      "cell_type": "code",
      "source": [
        "#Import necessary methods from sklearn\n",
        "from sklearn.model_selection import train_test_split\n",
        "from sklearn.preprocessing import StandardScaler\n",
        "from sklearn.linear_model import LogisticRegression\n",
        "from sklearn.model_selection import cross_val_score\n",
        "from sklearn.metrics import recall_score\n",
        "\n",
        "#Isolate the target from the features\n",
        "y = df['churn']\n",
        "X = df.drop('churn', axis=1)\n",
        "\n",
        "#Split data into training and testing sets\n",
        "X_train, X_test, y_train, y_test = train_test_split(X, y, test_size=0.3, random_state=0)\n",
        "\n",
        "#Split the testing data into a test set and hold-out set\n",
        "X_test, X_holdout, y_test, y_holdout = train_test_split(X_test, y_test, test_size=0.2, random_state=0)\n",
        "\n",
        "#Instantiate scaler\n",
        "scaler = StandardScaler()\n",
        "\n",
        "#Fit and transform training data using scalar and store as independent array\n",
        "X_train_scaled = scaler.fit_transform(X_train)\n",
        "\n",
        "#Transform testing data and store as independent array\n",
        "X_test_scaled = scaler.transform(X_test)"
      ],
      "metadata": {
        "id": "Qf4RggLbuask"
      },
      "execution_count": 129,
      "outputs": []
    },
    {
      "cell_type": "markdown",
      "source": [
        "Now, we're ready to run a vanilla logistic regression model."
      ],
      "metadata": {
        "id": "t_I9NCg3wPwM"
      }
    },
    {
      "cell_type": "code",
      "source": [
        "#Instantiate model\n",
        "baseline_model = LogisticRegression(random_state=0, solver='liblinear')\n",
        "\n",
        "#Fit model to training data\n",
        "baseline_model.fit(X_train, y_train)\n",
        "\n",
        "#Calculate recall score of training data using cross-val\n",
        "baseline_score = cross_val_score(baseline_model, X_train_scaled, y_train, scoring='recall').mean()\n",
        "\n",
        "#Calculate test recall score\n",
        "testing_score = recall_score(y_test, baseline_model.predict(X_test_scaled))\n",
        "\n",
        "#Print scores\n",
        "print(f'Cross-validation recall score: {baseline_score}')\n",
        "print(f'Testing recall score: {testing_score}')"
      ],
      "metadata": {
        "colab": {
          "base_uri": "https://localhost:8080/"
        },
        "id": "C_MUIKV1xWFK",
        "outputId": "e1e090d8-987e-4c96-c50f-c215fc001344"
      },
      "execution_count": 130,
      "outputs": [
        {
          "output_type": "stream",
          "name": "stdout",
          "text": [
            "Cross-validation recall score: 0.18840579710144928\n",
            "Testing recall score: 0.23423423423423423\n"
          ]
        },
        {
          "output_type": "stream",
          "name": "stderr",
          "text": [
            "/usr/local/lib/python3.10/dist-packages/sklearn/base.py:439: UserWarning: X does not have valid feature names, but LogisticRegression was fitted with feature names\n",
            "  warnings.warn(\n"
          ]
        }
      ]
    },
    {
      "cell_type": "markdown",
      "source": [
        "These results are bad! But this is expected, and our subsequent models will improve this."
      ],
      "metadata": {
        "id": "ld4dapWT1A2i"
      }
    },
    {
      "cell_type": "markdown",
      "source": [
        "##2. Logistic Regression Model Using SMOTE"
      ],
      "metadata": {
        "id": "Q2yS4Of4xW1_"
      }
    },
    {
      "cell_type": "markdown",
      "source": [
        "We can probably attribute our models underperformance to the lack of exposure to customers that churn. We'll use SMOTE to create synthetic samples of customers that churn. In order to avoid creating *too* much synthetic data. Let's quickly look at value counts, again."
      ],
      "metadata": {
        "id": "iF5CSEKe0ZIU"
      }
    },
    {
      "cell_type": "code",
      "source": [
        "y_train.value_counts()"
      ],
      "metadata": {
        "id": "v8fGkSD408bV",
        "outputId": "52151b09-beef-47fd-8d5f-9c28efa4bcce",
        "colab": {
          "base_uri": "https://localhost:8080/"
        }
      },
      "execution_count": 131,
      "outputs": [
        {
          "output_type": "execute_result",
          "data": {
            "text/plain": [
              "False    1988\n",
              "True      345\n",
              "Name: churn, dtype: int64"
            ]
          },
          "metadata": {},
          "execution_count": 131
        }
      ]
    },
    {
      "cell_type": "markdown",
      "source": [
        "Below, we'll create 250% more synthetic data."
      ],
      "metadata": {
        "id": "hE44G8qA1kO-"
      }
    },
    {
      "cell_type": "code",
      "source": [
        "#Import SMOTE\n",
        "from imblearn.over_sampling import SMOTE\n",
        "\n",
        "#Instantiate SMOTE and sample to make sure we get 2.5x the amount of actual churn samples\n",
        "smote = SMOTE(sampling_strategy=(y_train.value_counts()[True]*2.5)/y_train.value_counts()[False],\n",
        "              random_state=0)\n",
        "\n",
        "#Fit SMOTE on scaled data\n",
        "X_smote, y_smote = smote.fit_resample(X_train_scaled, y_train)\n",
        "\n",
        "y_smote.value_counts()"
      ],
      "metadata": {
        "id": "Uz_f4pnnzwLz",
        "outputId": "4731e23d-b9c4-4cfa-c302-5939eb46254b",
        "colab": {
          "base_uri": "https://localhost:8080/"
        }
      },
      "execution_count": 132,
      "outputs": [
        {
          "output_type": "execute_result",
          "data": {
            "text/plain": [
              "False    1988\n",
              "True      862\n",
              "Name: churn, dtype: int64"
            ]
          },
          "metadata": {},
          "execution_count": 132
        }
      ]
    },
    {
      "cell_type": "code",
      "source": [
        "#Instantiate new logistic regression model\n",
        "logreg_resampled = LogisticRegression(random_state=0, solver='liblinear')\n",
        "\n",
        "#Fit new model on over-sampled data\n",
        "logreg_resampled.fit(X_smote, y_smote)\n",
        "\n",
        "#Calculate training score\n",
        "cv_score_2 = cross_val_score(logreg_resampled, X_smote, y_smote, scoring='recall').mean()\n",
        "\n",
        "#Calculate testing score\n",
        "testing_score_2 = recall_score(y_test, logreg_resampled.predict(X_test_scaled))\n",
        "\n",
        "#Print scores\n",
        "print(f'Cross-validation recall score: {cv_score_2}')\n",
        "print(f'Testing recall score: {testing_score_2}')"
      ],
      "metadata": {
        "id": "Nmsgm52_2OaH",
        "outputId": "d7759f48-fcb1-4abc-d7a2-93003cf22078",
        "colab": {
          "base_uri": "https://localhost:8080/"
        }
      },
      "execution_count": 133,
      "outputs": [
        {
          "output_type": "stream",
          "name": "stdout",
          "text": [
            "Cross-validation recall score: 0.5220258099206883\n",
            "Testing recall score: 0.45045045045045046\n"
          ]
        }
      ]
    },
    {
      "cell_type": "markdown",
      "source": [
        "This model is significantly better, but still not particularly effective at predicting churn. We'll move on to more different models to try to improve this."
      ],
      "metadata": {
        "id": "X2lkJAqa18c6"
      }
    },
    {
      "cell_type": "markdown",
      "source": [
        "##3. Decision Tree Models"
      ],
      "metadata": {
        "id": "9VHeu0mP2gzH"
      }
    },
    {
      "cell_type": "markdown",
      "source": [
        "The next model we'll try is a decision tree. The next plain decision tree model will probably overfit the training data, and we expect to see a better cross-val score compared to the testing score. (Note: the decision tree does not need scaled data, so use SMOTE on the plain, unscaled training and testing data)."
      ],
      "metadata": {
        "id": "nL3mcR192HRs"
      }
    },
    {
      "cell_type": "code",
      "source": [
        "from sklearn.tree import DecisionTreeClassifier\n",
        "from sklearn.model_selection import GridSearchCV\n",
        "\n",
        "#Use smote to resample unscaled data and store\n",
        "X_train_oversamp_unscld, y_train_oversamp_unscld = smote.fit_resample(X_train, y_train)\n",
        "\n",
        "#Instantiate model\n",
        "dtc = DecisionTreeClassifier()\n",
        "\n",
        "#Fit model on training data\n",
        "dtc.fit(X_train_oversamp_unscld, y_train_oversamp_unscld)\n",
        "\n",
        "#Examine recall score using cross validation\n",
        "cv_score_3 = cross_val_score(dtc, X_train_oversamp_unscld, y_train_oversamp_unscld, scoring='recall').mean()\n",
        "testing_score_3 = recall_score(y_test, dtc.predict(X_test))\n",
        "\n",
        "print(f'Cross-validation recall score: {cv_score_3}')\n",
        "print(f'Testing recall score: {testing_score_3}')\n"
      ],
      "metadata": {
        "id": "DOFGcNnT275H",
        "outputId": "031a0aa5-fad8-4622-d0ed-acb83c77f90f",
        "colab": {
          "base_uri": "https://localhost:8080/"
        }
      },
      "execution_count": 134,
      "outputs": [
        {
          "output_type": "stream",
          "name": "stdout",
          "text": [
            "Cross-validation recall score: 0.778485011426267\n",
            "Testing recall score: 0.7747747747747747\n"
          ]
        }
      ]
    },
    {
      "cell_type": "markdown",
      "source": [
        "This model performs very well. We're closing to being able to predict about 80% of customers that churn! The fact that the cross-validation recall score is not much higher than the testing recall score shows us that we aren't overfitting. And all of this is without tuning any parameters. Below, we'll tune the model and see if we can get a better score. We'll run a grid search of parameters to see what's best."
      ],
      "metadata": {
        "id": "7Hm3Il2F7gbE"
      }
    },
    {
      "cell_type": "code",
      "source": [
        "#Create parameter grid to find optimal parameters\n",
        "grid = {\n",
        "    'criterion': ['gini', 'entropy'],\n",
        "    'max_depth': [1,5,10,15, None],\n",
        "    'min_samples_split': [2,5,10,15],\n",
        "    'min_samples_leaf': [1,2,3,4]\n",
        "}\n",
        "\n",
        "#Instantiate grid search\n",
        "tree_grid = GridSearchCV(estimator=dtc,\n",
        "                         param_grid=grid,\n",
        "                         return_train_score=True,\n",
        "                         scoring='recall',\n",
        "                         error_score='raise',\n",
        "                         cv=3)\n",
        "\n",
        "#Fit grid to training data\n",
        "tree_grid.fit(X_train_oversamp_unscld, y_train_oversamp_unscld)"
      ],
      "metadata": {
        "id": "lIieRsw_7stE"
      },
      "execution_count": null,
      "outputs": []
    },
    {
      "cell_type": "code",
      "source": [
        "tree_grid.best_params_"
      ],
      "metadata": {
        "id": "ylYSDlDIRgb0"
      },
      "execution_count": null,
      "outputs": []
    },
    {
      "cell_type": "code",
      "source": [
        "dtc_2 = DecisionTreeClassifier(criterion='entropy',\n",
        "                               max_depth=None,\n",
        "                               min_samples_leaf=1,\n",
        "                               min_samples_split=2,\n",
        "                               random_state=0)\n",
        "\n",
        "dtc_2.fit(X_train, y_train)\n",
        "\n",
        "cv_score_4 = cross_val_score(dtc_2, X_train_oversamp_unscld, y_train_oversamp_unscld, scoring='recall').mean()\n",
        "testing_score_4 = recall_score(y_test, dtc_2.predict(X_test))\n",
        "\n",
        "print(f'Cross-validation recall score: {cv_score_4}')\n",
        "print(f'Testing recall score: {testing_score_4}')"
      ],
      "metadata": {
        "id": "QNqFhNnHRkpx"
      },
      "execution_count": null,
      "outputs": []
    },
    {
      "cell_type": "markdown",
      "source": [
        "We were able to budge up the cross-validation score a bit. And we're actually slightly underfitting, as our testing score exceeds our training score."
      ],
      "metadata": {
        "id": "-HURWMQ-Tm2V"
      }
    },
    {
      "cell_type": "markdown",
      "source": [
        "##4. K-Nearest Neighbors"
      ],
      "metadata": {
        "id": "97Qf6l0zTtVn"
      }
    },
    {
      "cell_type": "markdown",
      "source": [
        "Although our tuned decision tree seems like a great candidate, we still want to exhaust some other options and see if we can do better. Our next choice is to run K-Nearest Neighbors models."
      ],
      "metadata": {
        "id": "D14wnMvh4sD4"
      }
    },
    {
      "cell_type": "code",
      "source": [
        "from sklearn.neighbors import KNeighborsClassifier\n",
        "\n",
        "#Instantiate the classifier\n",
        "neigh = KNeighborsClassifier()\n",
        "\n",
        "#Fit on our scaled, resampled data\n",
        "neigh.fit(X_smote, y_smote)\n",
        "\n",
        "#Calculate training score\n",
        "cv_score_5 = cross_val_score(neigh, X_smote, y_smote, scoring='recall').mean()\n",
        "\n",
        "#Calculate testing score\n",
        "testing_score_5 = recall_score(y_test, neigh.predict(X_test_scaled))\n",
        "\n",
        "print(f'Cross-validation recall score: {cv_score_5}')\n",
        "print(f'Testing recall score: {testing_score_5}')"
      ],
      "metadata": {
        "id": "QmQMzC7kTxMo"
      },
      "execution_count": null,
      "outputs": []
    },
    {
      "cell_type": "markdown",
      "source": [
        "We see that despite the excellent cross-validation recall score, there is a lower testing score. This is the result of over fitting, and comes as no surprise as an un-tuned neighbors classifier is prone to such overfitting.\n",
        "\n",
        "We feel that the best approach to determine the optimal parameters is not to run a grid search. This will only encourage overfitting. Instead we're going to iterate thru a range of neighbors and run on the testing data. Whichever number of neighbors maximizes the recall score is the one we'll try."
      ],
      "metadata": {
        "id": "38KLMv0VWcEE"
      }
    },
    {
      "cell_type": "code",
      "source": [
        "recall_scores = []\n",
        "neighbors = []\n",
        "\n",
        "for n in range(5,65,5):\n",
        "  neighbors.append(n)\n",
        "  kn_clf = KNeighborsClassifier(n_neighbors=n)\n",
        "  kn_clf.fit(X_smote, y_smote)\n",
        "  recall_scores.append(recall_score(y_test, kn_clf.predict(X_test_scaled)))\n",
        "\n",
        "plt.plot(neighbors, recall_scores);\n"
      ],
      "metadata": {
        "id": "FSkXo70HWrfl"
      },
      "execution_count": null,
      "outputs": []
    },
    {
      "cell_type": "markdown",
      "source": [
        "Now let's try to run a tuned K-Nearest Neighbors with 15 neighbors."
      ],
      "metadata": {
        "id": "NCHCRrxWXI6E"
      }
    },
    {
      "cell_type": "code",
      "source": [
        "#Instantiate classifier\n",
        "neigh_2 = KNeighborsClassifier(n_neighbors=15)\n",
        "\n",
        "#Fit on scaled, resampled data\n",
        "neigh_2.fit(X_smote, y_smote)\n",
        "\n",
        "#Calculate training recall score\n",
        "cv_score_6 = cross_val_score(neigh_2, X_smote, y_smote, scoring='recall').mean()\n",
        "\n",
        "#Calculate testing recall scores\n",
        "testing_score_6 = recall_score(y_test, neigh_2.predict(X_test_scaled))\n",
        "\n",
        "#Print scores\n",
        "print(f'Cross-validation recall score: {cv_score_6}')\n",
        "print(f'Testing recall score: {testing_score_6}')\n"
      ],
      "metadata": {
        "id": "kT4pamvD8nJV"
      },
      "execution_count": null,
      "outputs": []
    },
    {
      "cell_type": "markdown",
      "source": [
        "We've limited the overfitting, but this model does not perform as well as our decision tree. Below we'll see if we can do even better using random forest, the an ensemble method using decision trees."
      ],
      "metadata": {
        "id": "b9vIF2Yz6Pjz"
      }
    },
    {
      "cell_type": "markdown",
      "source": [
        "##5. Random Forest"
      ],
      "metadata": {
        "id": "uOjZHoQB8tl6"
      }
    },
    {
      "cell_type": "code",
      "source": [
        "#Import random forest clf\n",
        "from sklearn.ensemble import RandomForestClassifier\n",
        "\n",
        "#Instantiate un-tuned random forest\n",
        "forest = RandomForestClassifier()\n",
        "\n",
        "#Fit on unscaled, resampled data\n",
        "forest.fit(X_train_oversamp_unscld, y_train_oversamp_unscld)\n",
        "\n",
        "#Calculate training recall score\n",
        "cv_score_7 = cross_val_score(forest, X_train, y_train, scoring='recall').mean()\n",
        "\n",
        "#Testing recall score\n",
        "testing_score_7 = recall_score(y_test, forest.predict(X_test))\n",
        "\n",
        "#Print scores\n",
        "print(f'Cross-validation recall score: {cv_score_7}')\n",
        "print(f'Testing recall score: {testing_score_7}')"
      ],
      "metadata": {
        "id": "n-HaFWnc8_F-"
      },
      "execution_count": null,
      "outputs": []
    },
    {
      "cell_type": "markdown",
      "source": [
        "The fact that our training score is much lower than our testing score shows that we are underfitting. We'll try tuning the model below, and we'll use grid search to find the best parameters."
      ],
      "metadata": {
        "id": "BaWEaAHM6yxf"
      }
    },
    {
      "cell_type": "code",
      "source": [
        "#Create parameter grid for random forest\n",
        "rf_param_grid = {\"n_estimators\": [10,30,100],\n",
        "                 \"criterion\": ['gini', 'entropy'],\n",
        "                 \"max_depth\": [None, 2, 6, 10],\n",
        "                 \"min_samples_split\": [5, 10],\n",
        "                 \"min_samples_leaf\": [3,6]}\n",
        "\n",
        "#Instantiate grid search\n",
        "rf_grid_search = GridSearchCV(estimator=forest,\n",
        "                              param_grid=rf_param_grid,\n",
        "                              scoring='recall',\n",
        "                              cv=3,\n",
        "                              return_train_score=True)\n",
        "\n",
        "#Fit grid to training data\n",
        "rf_grid_search.fit(X_train_oversamp_unscld, y_train_oversamp_unscld)"
      ],
      "metadata": {
        "id": "avSCqXOe9Yrg"
      },
      "execution_count": null,
      "outputs": []
    },
    {
      "cell_type": "code",
      "source": [
        "rf_grid_search.best_params_"
      ],
      "metadata": {
        "id": "NA246Jkx-qjb"
      },
      "execution_count": null,
      "outputs": []
    },
    {
      "cell_type": "code",
      "source": [
        "#Instantiate random forest using best parameters\n",
        "forest_2 = RandomForestClassifier(criterion='entropy',\n",
        "                                  max_depth=None,\n",
        "                                  min_samples_leaf=3,\n",
        "                                  min_samples_split=5,\n",
        "                                  n_estimators=30,\n",
        "                                  random_state=0)\n",
        "\n",
        "#Fit model to training data\n",
        "forest_2.fit(X_train_oversamp_unscld, y_train_oversamp_unscld)\n",
        "\n",
        "#Calculate training score\n",
        "cv_score_8 = cross_val_score(forest_2, X_train_oversamp_unscld, y_train_oversamp_unscld, scoring='recall').mean()\n",
        "\n",
        "#Calculate testing score\n",
        "testing_score_8 = recall_score(y_test, forest_2.predict(X_test))\n",
        "\n",
        "#Print scores\n",
        "print(f'Cross-validation recall score: {cv_score_8}')\n",
        "print(f'Testing recall score: {testing_score_8}')"
      ],
      "metadata": {
        "id": "Lcaz1POV-uq0"
      },
      "execution_count": null,
      "outputs": []
    },
    {
      "cell_type": "markdown",
      "source": [
        "Although our model seems to be fitting properly, it still does not do as well as our tuned decision tree model."
      ],
      "metadata": {
        "id": "B8RPcWuz7yPR"
      }
    },
    {
      "cell_type": "markdown",
      "source": [
        "##6. XG Boost"
      ],
      "metadata": {
        "id": "XmRfTqMvJ1fa"
      }
    },
    {
      "cell_type": "markdown",
      "source": [
        "In our last attempt to find the best model, we'll use the popular gradient booster XG boost."
      ],
      "metadata": {
        "id": "ZJldZfM_78Ep"
      }
    },
    {
      "cell_type": "code",
      "source": [
        "#Import classifier\n",
        "from xgboost import XGBClassifier\n",
        "\n",
        "#Instantiate the classigfier\n",
        "xgb_clf = XGBClassifier()\n",
        "\n",
        "#Fit to unscaled, resampled data\n",
        "xgb_clf.fit(X_train_oversamp_unscld, y_train_oversamp_unscld)\n",
        "\n",
        "#Calculate training score\n",
        "cv_score_9 = cross_val_score(xgb_clf, X_train_oversamp_unscld, y_train_oversamp_unscld, scoring='recall').mean()\n",
        "\n",
        "#Calculate testing score\n",
        "testing_score_9 = recall_score(y_test, xgb_clf.predict(X_test))\n",
        "\n",
        "#Print scores\n",
        "print(f'Cross-validation recall score: {cv_score_9}')\n",
        "print(f'Testing recall score: {testing_score_9}')"
      ],
      "metadata": {
        "id": "xUIZndJ8J62_"
      },
      "execution_count": null,
      "outputs": []
    },
    {
      "cell_type": "markdown",
      "source": [
        "This seems to be a great model, despite the slight underfitting. We'll tune the hyper-parameters below using grid search."
      ],
      "metadata": {
        "id": "ZM-bhtoB8SNB"
      }
    },
    {
      "cell_type": "code",
      "source": [
        "#Create parameter grid\n",
        "xgb_param_grid = {\n",
        "    'learning_rate': [0.1, 0.2],\n",
        "    'max_depth': [6],\n",
        "    'min_child_weight': [1, 2],\n",
        "    'subsample': [0.5, 0.7],\n",
        "    'n_estimators': [100]\n",
        "}\n",
        "\n",
        "#Instantiate grid search\n",
        "xgb_grid_search = GridSearchCV(estimator=xgb_clf,\n",
        "                               param_grid=xgb_param_grid,\n",
        "                               scoring='recall',\n",
        "                               cv=3)\n",
        "\n",
        "#Fit grid\n",
        "xgb_grid_search.fit(X_train_oversamp_unscld, y_train_oversamp_unscld)"
      ],
      "metadata": {
        "id": "Y4lyV_CpKLK9"
      },
      "execution_count": null,
      "outputs": []
    },
    {
      "cell_type": "code",
      "source": [
        "xgb_grid_search.best_params_"
      ],
      "metadata": {
        "id": "LnzPn0tMKmGK"
      },
      "execution_count": null,
      "outputs": []
    },
    {
      "cell_type": "code",
      "source": [
        "#Instantiate classifier\n",
        "xgb_clf_2 = XGBClassifier(learning_rate=0.2,\n",
        "                          max_depth=6,\n",
        "                          min_child_weight=1,\n",
        "                          n_estimators=100,\n",
        "                          subsample=0.7,\n",
        "                          random_state=0)\n",
        "\n",
        "#Fit to training data\n",
        "xgb_clf_2.fit(X_train_oversamp_unscld, y_train_oversamp_unscld)\n",
        "\n",
        "#Calculate training score\n",
        "cv_score_10 = cross_val_score(xgb_clf_2, X_train_oversamp_unscld, y_train_oversamp_unscld, scoring='recall').mean()\n",
        "\n",
        "#Calculate testing score\n",
        "testing_score_10= recall_score(y_test, xgb_clf_2.predict(X_test))\n",
        "\n",
        "#Print scores\n",
        "print(f'Cross-validation recall score: {cv_score_10}')\n",
        "print(f'Testing recall score: {testing_score_10}')"
      ],
      "metadata": {
        "id": "DYLYZrI7KtF9"
      },
      "execution_count": null,
      "outputs": []
    },
    {
      "cell_type": "markdown",
      "source": [
        "This model actually is more underfit than the baseline XGBoost classifier."
      ],
      "metadata": {
        "id": "f2sfGv9eKI1L"
      }
    },
    {
      "cell_type": "markdown",
      "source": [
        "##7. Choosing Final Model"
      ],
      "metadata": {
        "id": "sNbNplcKABt-"
      }
    },
    {
      "cell_type": "markdown",
      "source": [
        "Our two best models were the un-tuned XGBoost classifier, and our tuned decision tree. We'll test these both below on the hold-out set."
      ],
      "metadata": {
        "id": "PyRlm_o69TJi"
      }
    },
    {
      "cell_type": "code",
      "source": [
        "xgb_score = recall_score(y_holdout, xgb_clf_2.predict(X_holdout))\n",
        "dt_score = recall_score(y_holdout, dtc_2.predict(X_holdout))\n",
        "\n",
        "print(f'XGBoost hold-out recall score: {xgb_score}')\n",
        "print(f'Decision tree hold-out recall score: {dt_score}')"
      ],
      "metadata": {
        "id": "9WqEK8J9__ZD"
      },
      "execution_count": null,
      "outputs": []
    },
    {
      "cell_type": "markdown",
      "source": [
        "Our XGBoost classifier is our best performer on the hold-out set, and this is the model that we're going to go with."
      ],
      "metadata": {
        "id": "JtyaPL-c925U"
      }
    },
    {
      "cell_type": "markdown",
      "source": [
        "#V. Final Model Analysis and Conclusion"
      ],
      "metadata": {
        "id": "xJBYjOuE-PYG"
      }
    },
    {
      "cell_type": "markdown",
      "source": [
        "Our best performing model was the tuned XGBoost classifier. It was first tested using cross-validation on the training set. This took a series of splits on the training data and tested it on a subset of that data, simulating a train/test split. The recall score return here was 77.9%. When then found the recall score for the testing data, which was roughly 81%, indicating that even our tuned model was slightly underfitting. These results were encouraging, and testing it on the hold-out set revealed about a 77.8% recall score.\n",
        "\n",
        "\n",
        "The consistency of this model throughout the different tests is encouraging, and one that we recommend our client to use in order to predict churn. Using our model, SyriaTel will be capable of predict about 77.8% of potential churn customers, attempt to retain them, and hopefully save a lot of business.\n",
        "\n",
        "Below we'll look at the confusion matrix of the models testing set and holdout set.\n",
        "\n"
      ],
      "metadata": {
        "id": "TXTOGDY5-UAv"
      }
    },
    {
      "cell_type": "code",
      "source": [
        "from sklearn.metrics import confusion_matrix\n",
        "from sklearn.metrics import ConfusionMatrixDisplay\n",
        "\n",
        "cm_1 = confusion_matrix(y_test, xgb_clf_2.predict(X_test))\n",
        "cm_2 = confusion_matrix(y_holdout, xgb_clf_2.predict(X_holdout))\n",
        "\n",
        "fig, axes = plt.subplots(1,2,figsize=(16,5))\n",
        "\n",
        "sns.heatmap(cm_1, annot=True, cmap='Blues', fmt='g', ax=axes[0])\n",
        "sns.heatmap(cm_2, annot=True, cmap='Blues', fmt='g', ax=axes[1]);\n"
      ],
      "metadata": {
        "id": "7cdgwFxrfxS3"
      },
      "execution_count": null,
      "outputs": []
    },
    {
      "cell_type": "markdown",
      "source": [
        "Something else to consider is how influential each feature was in the prediction of churn. Below we'll show the feature importance, which helps determine which features amongst the predictors had the strongest impact on churn."
      ],
      "metadata": {
        "id": "xUSFTuTDoFks"
      }
    },
    {
      "cell_type": "code",
      "source": [
        "fig, ax = plt.subplots(figsize=(8,4))\n",
        "plt.barh(X_train.columns, xgb_clf_2.feature_importances_)\n",
        "plt.tight_layout()\n",
        "plt.title('Feature Importance');"
      ],
      "metadata": {
        "id": "ucp2wudKgywT"
      },
      "execution_count": null,
      "outputs": []
    },
    {
      "cell_type": "markdown",
      "source": [
        "Although we noted in our EDA section that international plan, customer service calls, and total day charge are all big drivers of churn, it seems as though having a voice mail plan is the single most influential feature."
      ],
      "metadata": {
        "id": "_bSHourynjI5"
      }
    },
    {
      "cell_type": "markdown",
      "source": [
        "In conclusion, we recommend that SyriaTel use our model to predict churn, as it has a recall score of 77.8%. In terms of what types of benefits to offer customers that are likely to churn, our EDA and feature importance show that reducing the charge for voicemail plan, international plan, and day calls are the appropriate place to start."
      ],
      "metadata": {
        "id": "gw7tT7a3oTuX"
      }
    }
  ]
}